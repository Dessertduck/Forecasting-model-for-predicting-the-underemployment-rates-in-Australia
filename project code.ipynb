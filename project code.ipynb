{
 "cells": [
  {
   "cell_type": "code",
   "execution_count": null,
   "id": "e8f911e6",
   "metadata": {},
   "outputs": [],
   "source": [
    "import pandas as pd \n",
    "import numpy as np \n",
    "import matplotlib.pyplot as plt \n",
    "import math\n",
    "import warnings \n",
    "warnings.filterwarnings('ignore')\n",
    "\n",
    "import statsmodels as sm \n",
    "import statsmodels.api as smt\n",
    "from sklearn.linear_model import LinearRegression\n",
    "\n",
    "from sklearn.preprocessing import PolynomialFeatures\n",
    "from sklearn.metrics import mean_squared_error\n",
    "from statsmodels.graphics.tsaplots import plot_acf\n",
    "from statsmodels.tsa.holtwinters import ExponentialSmoothing\n",
    "from statsmodels.tsa.stattools import adfuller\n",
    "from sklearn.preprocessing import MinMaxScaler"
   ]
  },
  {
   "cell_type": "code",
   "execution_count": null,
   "id": "99524aa0",
   "metadata": {
    "scrolled": true
   },
   "outputs": [],
   "source": [
    "df = pd.read_csv('UnderemploymentRate_InSample.csv')\n",
    "df.head()"
   ]
  },
  {
   "cell_type": "code",
   "execution_count": null,
   "id": "cc405093",
   "metadata": {},
   "outputs": [],
   "source": [
    "df['Date'] = pd.to_datetime(df['Date'], format='%d/%m/%Y')"
   ]
  },
  {
   "cell_type": "code",
   "execution_count": null,
   "id": "62155f29",
   "metadata": {},
   "outputs": [],
   "source": [
    "# Add missing value：1978-01-01 7.5\n",
    "new_row = pd.DataFrame({'Date':['1978-01-01'],'Underemployment_Rate': [7.5]})\n",
    "df = pd.concat([new_row, df])\n",
    "df['Date'] = pd.to_datetime(df['Date'], dayfirst = True)\n",
    "\n",
    "df.set_index('Date', inplace=True)\n",
    "df.head()"
   ]
  },
  {
   "cell_type": "markdown",
   "id": "03a61d39",
   "metadata": {},
   "source": [
    "# 2.0 EDA"
   ]
  },
  {
   "cell_type": "code",
   "execution_count": null,
   "id": "f9058839",
   "metadata": {},
   "outputs": [],
   "source": [
    "df.isnull().sum()"
   ]
  },
  {
   "cell_type": "code",
   "execution_count": null,
   "id": "751916f4",
   "metadata": {},
   "outputs": [],
   "source": [
    "df.describe()"
   ]
  },
  {
   "cell_type": "code",
   "execution_count": null,
   "id": "198894ea",
   "metadata": {},
   "outputs": [],
   "source": [
    "# Time-series plot\n",
    "ts = df['Underemployment_Rate']\n",
    "\n",
    "plt.figure(figsize=(15, 6))\n",
    "plt.plot(ts)\n",
    "plt.title('Time Series Plot', fontsize=20)\n",
    "plt.xlabel('Date')\n",
    "plt.ylabel('Underemployment Rate')\n",
    "plt.show()"
   ]
  },
  {
   "cell_type": "code",
   "execution_count": null,
   "id": "1e8457c5",
   "metadata": {},
   "outputs": [],
   "source": [
    "# CMA\n",
    "CMA_5 = ts.rolling(5,center=True).mean()\n",
    "CMA_12 = ts.rolling(12,center=True).mean().rolling(2,center=True).mean().shift(-1)\n",
    "\n",
    "de_trend = ts - CMA_12\n",
    "\n",
    "plt.figure(figsize=(15, 6))\n",
    "plt.plot(ts.index, ts, label='Original Plot')\n",
    "plt.plot(ts.index, de_trend, label='Reveal Seasonality')\n",
    "plt.plot(ts.index, CMA_5, label='CMA-5')\n",
    "plt.plot(ts.index, CMA_12, label='CMA-12')\n",
    "\n",
    "plt.xlabel('Date')\n",
    "plt.ylabel('UnderemploymentRate')\n",
    "plt.legend()\n",
    "plt.show()"
   ]
  },
  {
   "cell_type": "code",
   "execution_count": null,
   "id": "b26b0be7",
   "metadata": {},
   "outputs": [],
   "source": [
    "# ACP & PACF\n",
    "smt.graphics.tsa.plot_acf(ts, lags=30, alpha = 0.05)\n",
    "smt.graphics.tsa.plot_pacf(ts, lags=30, alpha = 0.05)\n",
    "plt.show()"
   ]
  },
  {
   "cell_type": "code",
   "execution_count": null,
   "id": "0819b23e",
   "metadata": {},
   "outputs": [],
   "source": [
    "# Calculate difference series\n",
    "underemployment_diff = pd.Series.diff(ts)\n",
    "# Discard the nan value\n",
    "underemployment_diff = underemployment_diff.dropna()\n",
    "\n",
    "# Plot the differenced data\n",
    "plt.figure(figsize=(15,6))\n",
    "plt.plot(underemployment_diff)\n",
    "plt.xlabel('Date')\n",
    "plt.ylabel('Value')\n",
    "plt.title('Monthly Underemployment Rate Differencing')\n",
    "plt.show()"
   ]
  },
  {
   "cell_type": "code",
   "execution_count": null,
   "id": "b69f0c61",
   "metadata": {},
   "outputs": [],
   "source": [
    "smt.graphics.tsa.plot_acf(underemployment_diff, lags=30, alpha = 0.05)\n",
    "smt.graphics.tsa.plot_pacf(underemployment_diff, lags=30, alpha = 0.05)\n",
    "plt.show()"
   ]
  },
  {
   "cell_type": "code",
   "execution_count": null,
   "id": "b0eee387",
   "metadata": {},
   "outputs": [],
   "source": [
    "ts_train = ts[:-24]\n",
    "ts_valid = ts[-24:]"
   ]
  },
  {
   "cell_type": "markdown",
   "id": "ef627a3e",
   "metadata": {},
   "source": [
    "# 3.0 Model Training "
   ]
  },
  {
   "cell_type": "markdown",
   "id": "5936d9b9",
   "metadata": {},
   "source": [
    "## 3.1 Decomposition"
   ]
  },
  {
   "cell_type": "code",
   "execution_count": null,
   "id": "7cb90095",
   "metadata": {},
   "outputs": [],
   "source": [
    "print(ts_train.shape)"
   ]
  },
  {
   "cell_type": "code",
   "execution_count": null,
   "id": "e3c63178",
   "metadata": {},
   "outputs": [],
   "source": [
    "456/12"
   ]
  },
  {
   "cell_type": "code",
   "execution_count": null,
   "id": "de3e8f5c",
   "metadata": {},
   "outputs": [],
   "source": [
    "CMA12 = ts_train.rolling(12, center=True).mean().rolling(2, center=True).mean().shift(-1)\n",
    "ts_res = ts_train - CMA12\n",
    "ts_res_zero = np.nan_to_num(ts_res)\n",
    "\n",
    "monthly_S = np.reshape(ts_res_zero, (-1, 12))  \n",
    "\n",
    "monthly_avg = np.mean(monthly_S, axis=0)\n",
    "\n",
    "seasonal_idx = monthly_avg.mean()\n",
    "seasonal_idx_normalized = monthly_avg - seasonal_idx\n",
    "\n",
    "seasonal = np.tile(seasonal_idx_normalized, len(ts_train) // 12 + 1)[:len(ts_train)]  \n",
    "\n",
    "# Ensure that the length of the seasonality index is consistent with the length of the time series\n",
    "seasonally_adjusted = ts_train - seasonal"
   ]
  },
  {
   "cell_type": "markdown",
   "id": "57685b87",
   "metadata": {},
   "source": [
    "### 3.1.1 Decomposition_Linear_Model"
   ]
  },
  {
   "cell_type": "code",
   "execution_count": null,
   "id": "74e88b9b",
   "metadata": {},
   "outputs": [],
   "source": [
    "X = np.linspace(1, len(seasonally_adjusted), len(seasonally_adjusted))  \n",
    "X = X.reshape(-1, 1)  \n",
    "\n",
    "y = seasonally_adjusted.values\n",
    "tm = LinearRegression()\n",
    "tm.fit(X, y)\n",
    "\n",
    "X_fitting = np.reshape(np.arange(1, len(seasonally_adjusted) + 1), (len(seasonally_adjusted), 1))\n",
    "trend_linear = tm.predict(X_fitting)\n",
    "\n",
    "plt.figure(figsize=(15, 6))\n",
    "\n",
    "plt.plot(ts_train.index, seasonally_adjusted)\n",
    "plt.plot(ts_train.index, trend_linear)\n",
    "\n",
    "plt.title(\"Final Trend Estimation Linear Regression\")\n",
    "plt.xlabel('Date')\n",
    "plt.ylabel('Underemployement Rate')\n",
    "\n",
    "plt.legend([\"Seasonally Adjusted Data\", \"Trend Component (Linear Regression)\"])\n",
    "plt.show()"
   ]
  },
  {
   "cell_type": "code",
   "execution_count": null,
   "id": "b16328ec",
   "metadata": {},
   "outputs": [],
   "source": [
    "X_pred = np.arange(len(seasonally_adjusted) + 1, len(seasonally_adjusted) + 25).reshape(-1, 1)\n",
    "Trend_pred_linear = tm.predict(X_pred)\n",
    "\n",
    "deli = Trend_pred_linear + seasonal[:24]\n",
    "\n",
    "plt.figure(figsize=(15,6))\n",
    "plt.plot(ts.index, ts, label='Original')\n",
    "plt.plot(ts_valid.index, deli, label='Trend + Seasonal')\n",
    "\n",
    "plt.title('Final Trend Estimation Linear Regression')\n",
    "plt.xlabel('Date')\n",
    "plt.ylabel('Underemployment Rate')\n",
    "\n",
    "plt.legend()\n",
    "plt.show()"
   ]
  },
  {
   "cell_type": "markdown",
   "id": "1fa18f6e",
   "metadata": {},
   "source": [
    "### 3.1.2 Decomposition_Linear_Model RMSE"
   ]
  },
  {
   "cell_type": "code",
   "execution_count": null,
   "id": "6e830d7f",
   "metadata": {},
   "outputs": [],
   "source": [
    "linear_mse = mean_squared_error(ts_valid,deli)\n",
    "Dep_linear_rmse = np.sqrt(linear_mse)\n",
    "print('RMSE: {0:.4f}'.format(Dep_linear_rmse))"
   ]
  },
  {
   "cell_type": "markdown",
   "id": "1cf1c1f1",
   "metadata": {},
   "source": [
    "### 3.1.3 Decomposition_Polynomial_Model"
   ]
  },
  {
   "cell_type": "code",
   "execution_count": null,
   "id": "169af89e",
   "metadata": {},
   "outputs": [],
   "source": [
    "poly = PolynomialFeatures(degree=2)\n",
    "X_poly = poly.fit_transform(X)\n",
    "\n",
    "tm2 = LinearRegression()\n",
    "tm2.fit(X_poly, y)\n",
    "\n",
    "X_fitting_p = np.reshape(np.arange(1, len(seasonally_adjusted) + 1), (-1, 1))\n",
    "X_fitting_p_poly = poly.transform(X_fitting_p)\n",
    "\n",
    "trend_linear = tm2.predict(X_fitting_p_poly)\n",
    "\n",
    "plt.figure(figsize=(15, 6))\n",
    "plt.plot(ts_train.index, seasonally_adjusted)\n",
    "plt.plot(ts_train.index, trend_linear)\n",
    "\n",
    "plt.title('Final Trend Estimation Linear Regression')\n",
    "plt.xlabel('Date')\n",
    "plt.ylabel('Underemployment Rate')\n",
    "\n",
    "plt.legend(['Seasonally Adjusted Data', 'Trend Component (Linear Regression)'])\n",
    "plt.show()"
   ]
  },
  {
   "cell_type": "code",
   "execution_count": null,
   "id": "e7145f61",
   "metadata": {},
   "outputs": [],
   "source": [
    "X_pred = np.arange(len(seasonally_adjusted) + 1, len(seasonally_adjusted) + 25).reshape(-1, 1)\n",
    "X_pred_poly = poly.transform(X_pred)\n",
    "\n",
    "Trend_pred = tm2.predict(X_pred_poly)\n",
    "depo = Trend_pred + seasonal[:24]\n",
    "\n",
    "plt.figure(figsize=(15,6))\n",
    "plt.plot(ts.index, ts, label='Original')\n",
    "plt.plot(ts_valid.index, depo, label='Trend + Seasonal')\n",
    "\n",
    "plt.title('Final Trend Estimation Linear Regression')\n",
    "plt.xlabel('Date')\n",
    "plt.ylabel('Underemployment Rate')\n",
    "\n",
    "plt.legend()\n",
    "plt.show()"
   ]
  },
  {
   "cell_type": "markdown",
   "id": "b7eb7b94",
   "metadata": {},
   "source": [
    "## 3.1.3 Decomposition_Polynomial_Model_RMSE"
   ]
  },
  {
   "cell_type": "code",
   "execution_count": null,
   "id": "8b5c80cc",
   "metadata": {},
   "outputs": [],
   "source": [
    "Dep_mse = mean_squared_error(ts_valid, depo)\n",
    "Dep_poly_rmse = np.sqrt(Dep_mse)\n",
    "\n",
    "print('RMSE: {0:.4f}'.format(Dep_poly_rmse))"
   ]
  },
  {
   "cell_type": "markdown",
   "id": "e2afb82a",
   "metadata": {},
   "source": [
    "## 3.2 Linear Model prediction"
   ]
  },
  {
   "cell_type": "code",
   "execution_count": null,
   "id": "7a2985a9",
   "metadata": {},
   "outputs": [],
   "source": [
    "X_train = ts_train.index.to_julian_date().values.reshape(-1, 1)\n",
    "y_train = ts_train.values\n",
    "\n",
    "model = LinearRegression()\n",
    "model.fit(X_train, y_train)\n",
    "\n",
    "X_valid = ts_valid.index.to_julian_date().values.reshape(-1, 1)\n",
    "\n",
    "y_pred = model.predict(X_valid)"
   ]
  },
  {
   "cell_type": "code",
   "execution_count": null,
   "id": "6a5674e9",
   "metadata": {},
   "outputs": [],
   "source": [
    "plt.figure(figsize=(15, 6)) \n",
    "\n",
    "plt.plot(ts.index, ts.values, label='Original')\n",
    "\n",
    "plt.plot(ts_valid.index, y_pred, label='Predicted Data')\n",
    "\n",
    "plt.xlabel('Date')\n",
    "plt.ylabel('Underemployment Rate')\n",
    "plt.title('Original Data vs Predicted Data')\n",
    "plt.legend()\n",
    "plt.show()"
   ]
  },
  {
   "cell_type": "markdown",
   "id": "73bc7ca3",
   "metadata": {},
   "source": [
    "### 3.2.1 Linear Model RMSE"
   ]
  },
  {
   "cell_type": "code",
   "execution_count": null,
   "id": "8b12d5c9",
   "metadata": {},
   "outputs": [],
   "source": [
    "mse = mean_squared_error(ts_valid.values, y_pred)\n",
    "linear_rmse = np.sqrt(mse)\n",
    "print('LR Predicted Model RMSE: {0:.4f}'.format(linear_rmse))"
   ]
  },
  {
   "cell_type": "markdown",
   "id": "db81525d",
   "metadata": {},
   "source": [
    "## 3.3 Holt-Winters Model"
   ]
  },
  {
   "cell_type": "markdown",
   "id": "978258df",
   "metadata": {},
   "source": [
    "### 3.3.1 Simple exponential smoothing"
   ]
  },
  {
   "cell_type": "code",
   "execution_count": null,
   "id": "73c6eb1a",
   "metadata": {},
   "outputs": [],
   "source": [
    "lt_pandas1 = ts.ewm(alpha=0.05, adjust=False).mean()\n",
    "lt_pandas2 = ts.ewm(alpha=0.1, adjust=False).mean()\n",
    "lt_pandas3 = ts.ewm(alpha=0.3, adjust=False).mean()\n",
    "lt_pandas4 = ts.ewm(alpha=0.7, adjust=False).mean()\n",
    "\n",
    "plt.figure(figsize=(16,8))\n",
    "plt.plot(ts, label='Original data')\n",
    "plt.plot(lt_pandas1, label = \"Alpha = 0.05\")\n",
    "plt.plot(lt_pandas2, label = \"Alpha = 0.1\")\n",
    "plt.plot(lt_pandas3, label = \"Alpha = 0.3\")\n",
    "plt.plot(lt_pandas4, label = \"Alpha = 0.7\")\n",
    "plt.xlabel('Month')\n",
    "plt.ylabel('Number of Unemployment')\n",
    "plt.title(\"SES smoothing with various values of Alpha\")\n",
    "plt.legend()\n",
    "plt.show()\n",
    "# plt.savefig('SES_holt')"
   ]
  },
  {
   "cell_type": "markdown",
   "id": "82bdcc5c",
   "metadata": {},
   "source": [
    "### 3.3.2 Multiplicative model"
   ]
  },
  {
   "cell_type": "code",
   "execution_count": null,
   "id": "a4f5714e",
   "metadata": {},
   "outputs": [],
   "source": [
    "fit_mul = ExponentialSmoothing (ts_train, seasonal_periods=12, trend='add', seasonal= 'mul').fit()\n",
    "\n",
    "smooth_mul = fit_mul.fittedvalues\n",
    "\n",
    "plt.figure(figsize=(15,6))\n",
    "plt.plot(ts_train[1:], label = 'Original data')\n",
    "plt.plot(smooth_mul, 'g--', label = 'Multiplicative Holt-Winters')\n",
    "plt.xlabel('Date')\n",
    "plt.ylabel('Unemployment Rate')\n",
    "plt.title('Multiplicative Holt-Winters Method' )\n",
    "plt.legend()\n",
    "plt.show()\n",
    "# plt.savefig('holt_model')"
   ]
  },
  {
   "cell_type": "code",
   "execution_count": null,
   "id": "ea2cbb5d",
   "metadata": {},
   "outputs": [],
   "source": [
    "# symbol r $ and \\ in the results variable are the latex symbols for visualization in notebook\n",
    "multi_co = pd.DataFrame(index=[r\"$\\alpha$\",\\\n",
    "                              r\"$\\beta$\",\\\n",
    "                              r\"$\\gamma$\",\\\n",
    "                              r\"$l_0$\",\\\n",
    "                              \"$b_0$\",\\\n",
    "                              \"SSE\"])\n",
    "# ExponentialSmoothing() object has following attributes\n",
    "params_mul_hot = ['smoothing_level', \\\n",
    "          'smoothing_trend', \\\n",
    "          'smoothing_seasonal', \\\n",
    "          'initial_level', \\\n",
    "          'initial_trend']\n",
    "\n",
    "# check out the performance of additive and multiplicative\n",
    "multi_co[\"Multiplicative\"] = [fit_mul.params[p] for p in params_mul_hot] + [fit_mul.sse]\n",
    "multi_co"
   ]
  },
  {
   "cell_type": "markdown",
   "id": "879c0df9",
   "metadata": {},
   "source": [
    "### 3.3.3 Holt_Winters' Forecasting"
   ]
  },
  {
   "cell_type": "code",
   "execution_count": null,
   "id": "e12b1cdf",
   "metadata": {},
   "outputs": [],
   "source": [
    "# Forecast 24 more data points\n",
    "y_mul = fit_mul.forecast(24)\n",
    "\n",
    "# And plot al together\n",
    "plt.figure(figsize=(16,5))\n",
    "plt.plot(ts_train, label = 'In-sample')\n",
    "plt.plot(ts_valid, label = 'Validation')\n",
    "plt.plot(y_mul, '--g',label = 'Multiplicative Holt-Winters')\n",
    "plt.axvline(x=ts.index[len(ts_train)],color='black',alpha=0.5)\n",
    "\n",
    "plt.xlabel(\"Date\")\n",
    "plt.ylabel(\"Underemployment Rate\")\n",
    "plt.title(\"Forecast Holt-Winters Methods\")\n",
    "plt.legend()\n",
    "plt.show()\n",
    "# plt.savefig('holt_fore')"
   ]
  },
  {
   "cell_type": "markdown",
   "id": "b13e32d2",
   "metadata": {},
   "source": [
    "### 3.3.4  Holt_winter RMSE"
   ]
  },
  {
   "cell_type": "code",
   "execution_count": null,
   "id": "b69578eb",
   "metadata": {},
   "outputs": [],
   "source": [
    "hot_mse = mean_squared_error(ts_valid, y_mul)\n",
    "hot_mse\n",
    "\n",
    "hot_rmse = math.sqrt(hot_mse)\n",
    "print('HW RMSE: {0:.4f}'.format(hot_rmse))"
   ]
  },
  {
   "cell_type": "markdown",
   "id": "e1d885dd",
   "metadata": {},
   "source": [
    "## 3.4 ARIMA"
   ]
  },
  {
   "cell_type": "markdown",
   "id": "0b34ad0f",
   "metadata": {},
   "source": [
    "### 3.4.1 Stationary"
   ]
  },
  {
   "cell_type": "code",
   "execution_count": null,
   "id": "dae1c794",
   "metadata": {},
   "outputs": [],
   "source": [
    "plt.figure(figsize=(16,5))\n",
    " \n",
    "# Original Series\n",
    "fig, (ax1, ax2, ax3) = plt.subplots(3)\n",
    "ax1.plot(ts); ax1.set_title('Original Series'); ax1.axes.xaxis.set_visible(False)\n",
    "# 1st Differencing\n",
    "ax2.plot(underemployment_diff); ax2.set_title('1st Order Differencing'); ax2.axes.xaxis.set_visible(False)\n",
    "# 2nd Differencing\n",
    "ax3.plot(underemployment_diff.diff()); ax3.set_title('2nd Order Differencing')\n",
    "plt.show()\n",
    "# plt.savefig('arima_diff')"
   ]
  },
  {
   "cell_type": "code",
   "execution_count": null,
   "id": "7efb2a6a",
   "metadata": {},
   "outputs": [],
   "source": [
    "# from statsmodels.tsa.stattools import adfuller\n",
    "adf = adfuller(ts)\n",
    "print('ADF Statistic: %f' % adf[0])\n",
    "print('p-value: %f' % adf[1])\n",
    "print('Critical Values:')\n",
    "for key, value in adf[4].items():\n",
    "  print('\\t%s: %.3f' % (key, value))\n",
    "\n",
    "#the p-value is more than 0.05 this means our null hypothesis will be \n",
    "# rejected and we will take this series as non-stationary."
   ]
  },
  {
   "cell_type": "code",
   "execution_count": null,
   "id": "4ff4bae7",
   "metadata": {},
   "outputs": [],
   "source": [
    "from statsmodels.tsa.stattools import adfuller\n",
    "adf = adfuller(underemployment_diff)\n",
    "print('ADF Statistic: %f' % adf[0])\n",
    "print('p-value: %f' % adf[1])\n",
    "print('Critical Values:')\n",
    "for key, value in adf[4].items():\n",
    "  print('\\t%s: %.3f' % (key, value))\n",
    "\n",
    "#the p-value is less than 0.05 this means our null hypothesis will be \n",
    "# hold and we will take this series as stationary."
   ]
  },
  {
   "cell_type": "markdown",
   "id": "d40ef53b",
   "metadata": {},
   "source": [
    "### 3.4.2 ACF"
   ]
  },
  {
   "cell_type": "code",
   "execution_count": null,
   "id": "e4eff0ce",
   "metadata": {},
   "outputs": [],
   "source": [
    "plt.figure(figsize=(16,5))\n",
    "\n",
    "# from statsmodels.graphics.tsaplots import plot_acf\n",
    "fig, (ax1, ax2, ax3) = plt.subplots(3)\n",
    "plot_acf(ts, lags=50, alpha = 0.05, ax=ax1)\n",
    "ax1.axes.xaxis.set_visible(False)\n",
    "ax1.set_title('Autocorrelation')\n",
    "\n",
    "plot_acf(underemployment_diff.dropna(),lags=50, alpha = 0.05, ax=ax2)\n",
    "ax2.set_title('Autocorrelation - 1st order diff')\n",
    "ax2.axes.xaxis.set_visible(False)\n",
    "\n",
    "plot_acf(underemployment_diff.diff().diff().dropna(), \n",
    "         lags=50, alpha = 0.05, ax=ax3)\n",
    "ax3.set_title('Autocorrelation - 2st order diff')\n",
    "plt.show()\n",
    "# plt.savefig('arima_acf_diff')"
   ]
  },
  {
   "cell_type": "markdown",
   "id": "36ddd094",
   "metadata": {},
   "source": [
    "### 3.4.3 PACF"
   ]
  },
  {
   "cell_type": "code",
   "execution_count": null,
   "id": "4a591fe8",
   "metadata": {},
   "outputs": [],
   "source": [
    "smt.graphics.tsa.plot_pacf(underemployment_diff.dropna(),lags=50,alpha=0.05)\n",
    "\n",
    "plt.show()\n",
    "# plt.savefig('arima_pcf')"
   ]
  },
  {
   "cell_type": "markdown",
   "id": "05c49030",
   "metadata": {},
   "source": [
    "PACF cut-off (p): 2 or 1\n",
    "Here we can see that the second lag is significantly out of the limit and the third one is also out of the significant limit but it is not that far so we can select the order of the p as 2."
   ]
  },
  {
   "cell_type": "code",
   "execution_count": null,
   "id": "2cd0d3b5",
   "metadata": {},
   "outputs": [],
   "source": [
    "from statsmodels.tsa.arima_model import ARIMA\n",
    "\n",
    "p=2\n",
    "d=1\n",
    "q=0\n",
    "model_ari_210 = sm.tsa.arima.model.ARIMA(ts_train, order = (p,d,q))\n",
    "ari210 = model_ari_210.fit()\n",
    "\n",
    "ari210.summary()"
   ]
  },
  {
   "cell_type": "code",
   "execution_count": null,
   "id": "5905634f",
   "metadata": {},
   "outputs": [],
   "source": [
    "ari210_for = ari210.forecast(24)\n",
    "\n",
    "# And plot al together\n",
    "plt.figure(figsize=(16,5))\n",
    "plt.plot(ts_train, label = 'In-sample')\n",
    "plt.plot(ts_valid, label = 'Validation')\n",
    "plt.plot(ari210_for, '--g',label = 'ARIMA (2,1,0) fitted values')\n",
    "plt.axvline(x=ts.index[len(ts_train)],color='black',alpha=0.5)\n",
    "\n",
    "plt.xlabel(\"Date\")\n",
    "plt.ylabel(\"Underemployment Rate\")\n",
    "plt.title(\"ARIMA(2,1,0) Model Fitted vs True Values\")\n",
    "plt.legend()\n",
    "plt.show()\n",
    "# plt.savefig('arima_210')"
   ]
  },
  {
   "cell_type": "markdown",
   "id": "0af2236e",
   "metadata": {},
   "source": [
    "### 3.4.4 ARIMA (1,1,0)\n"
   ]
  },
  {
   "cell_type": "code",
   "execution_count": null,
   "id": "5613f538",
   "metadata": {},
   "outputs": [],
   "source": [
    "from statsmodels.tsa.arima_model import ARIMA\n",
    "\n",
    "p=1\n",
    "d=1\n",
    "q=0\n",
    "model_ari_110 = sm.tsa.arima.model.ARIMA(ts_train, order = (p,d,q))\n",
    "ari110 = model_ari_110.fit()\n",
    "\n",
    "ari110.summary()"
   ]
  },
  {
   "cell_type": "code",
   "execution_count": null,
   "id": "1245517f",
   "metadata": {},
   "outputs": [],
   "source": [
    "ari110_for = ari110.forecast(24)\n",
    "\n",
    "# Plot ala together\n",
    "plt.figure(figsize=(16,5))\n",
    "plt.plot(ts_train, label = 'In-sample')\n",
    "plt.plot(ts_valid, label = 'Validation')\n",
    "plt.plot(ari110_for, '--g',label = 'ARIMA (1,1,0) fitted values')\n",
    "plt.axvline(x=ts.index[len(ts_train)],color='black',alpha=0.5)\n",
    "\n",
    "plt.xlabel(\"Date\")\n",
    "plt.ylabel(\"Underemployment Rate\")\n",
    "plt.title(\"ARIMA(1,1,0) Model Fitted vs True Values\")\n",
    "plt.legend()\n",
    "plt.show()\n",
    "# plt.savefig('arima_110')"
   ]
  },
  {
   "cell_type": "code",
   "execution_count": null,
   "id": "cca0ddb0",
   "metadata": {},
   "outputs": [],
   "source": [
    "from statsmodels.tsa.arima_model import ARIMA\n",
    "\n",
    "p=2\n",
    "d=1\n",
    "q=1\n",
    "model_ari_211 = sm.tsa.arima.model.ARIMA(ts_train, order = (p,d,q))\n",
    "ari211 = model_ari_211.fit()\n",
    "\n",
    "ari211_for = ari211.forecast(24)\n",
    "\n",
    "# And plot all together\n",
    "plt.figure(figsize=(16,5))\n",
    "plt.plot(ts_train, label = 'In-sample')\n",
    "plt.plot(ts_valid, label = 'Validation')\n",
    "plt.plot(ari211_for, '--g',label = 'ARIMA (2,1,1) fitted values')\n",
    "plt.axvline(x=ts.index[len(ts_train)],color='black',alpha=0.5)\n",
    "\n",
    "plt.xlabel(\"Date\")\n",
    "plt.ylabel(\"Underemployment rate\")\n",
    "plt.title(\"ARIMA(2,1,1) model fitted vs true values\")\n",
    "plt.legend()\n",
    "plt.show()\n",
    "# plt.savefig('arima_211')"
   ]
  },
  {
   "cell_type": "markdown",
   "id": "c4f01853",
   "metadata": {},
   "source": [
    "### 3.4.5 Using AIC to select best fitting (p,q) order of ARIMA(p,d,q) models"
   ]
  },
  {
   "cell_type": "code",
   "execution_count": null,
   "id": "42c3f2c7",
   "metadata": {},
   "outputs": [
    {
     "name": "stderr",
     "output_type": "stream",
     "text": [
      "/Users/soooniaxx/anaconda3/lib/python3.11/site-packages/statsmodels/base/model.py:607: ConvergenceWarning: Maximum Likelihood optimization failed to converge. Check mle_retvals\n",
      "  warnings.warn(\"Maximum Likelihood optimization failed to \"\n",
      "/Users/soooniaxx/anaconda3/lib/python3.11/site-packages/statsmodels/tsa/base/tsa_model.py:473: ValueWarning: No frequency information was provided, so inferred frequency MS will be used.\n",
      "  self._init_dates(dates, freq)\n",
      "/Users/soooniaxx/anaconda3/lib/python3.11/site-packages/statsmodels/tsa/base/tsa_model.py:473: ValueWarning: No frequency information was provided, so inferred frequency MS will be used.\n",
      "  self._init_dates(dates, freq)\n",
      "/Users/soooniaxx/anaconda3/lib/python3.11/site-packages/statsmodels/tsa/base/tsa_model.py:473: ValueWarning: No frequency information was provided, so inferred frequency MS will be used.\n",
      "  self._init_dates(dates, freq)\n",
      "/Users/soooniaxx/anaconda3/lib/python3.11/site-packages/statsmodels/base/model.py:607: ConvergenceWarning: Maximum Likelihood optimization failed to converge. Check mle_retvals\n",
      "  warnings.warn(\"Maximum Likelihood optimization failed to \"\n",
      "/Users/soooniaxx/anaconda3/lib/python3.11/site-packages/statsmodels/tsa/base/tsa_model.py:473: ValueWarning: No frequency information was provided, so inferred frequency MS will be used.\n",
      "  self._init_dates(dates, freq)\n",
      "/Users/soooniaxx/anaconda3/lib/python3.11/site-packages/statsmodels/tsa/base/tsa_model.py:473: ValueWarning: No frequency information was provided, so inferred frequency MS will be used.\n",
      "  self._init_dates(dates, freq)\n",
      "/Users/soooniaxx/anaconda3/lib/python3.11/site-packages/statsmodels/tsa/base/tsa_model.py:473: ValueWarning: No frequency information was provided, so inferred frequency MS will be used.\n",
      "  self._init_dates(dates, freq)\n",
      "/Users/soooniaxx/anaconda3/lib/python3.11/site-packages/statsmodels/tsa/base/tsa_model.py:473: ValueWarning: No frequency information was provided, so inferred frequency MS will be used.\n",
      "  self._init_dates(dates, freq)\n",
      "/Users/soooniaxx/anaconda3/lib/python3.11/site-packages/statsmodels/tsa/base/tsa_model.py:473: ValueWarning: No frequency information was provided, so inferred frequency MS will be used.\n",
      "  self._init_dates(dates, freq)\n",
      "/Users/soooniaxx/anaconda3/lib/python3.11/site-packages/statsmodels/tsa/base/tsa_model.py:473: ValueWarning: No frequency information was provided, so inferred frequency MS will be used.\n",
      "  self._init_dates(dates, freq)\n",
      "/Users/soooniaxx/anaconda3/lib/python3.11/site-packages/statsmodels/tsa/base/tsa_model.py:473: ValueWarning: No frequency information was provided, so inferred frequency MS will be used.\n",
      "  self._init_dates(dates, freq)\n",
      "/Users/soooniaxx/anaconda3/lib/python3.11/site-packages/statsmodels/tsa/base/tsa_model.py:473: ValueWarning: No frequency information was provided, so inferred frequency MS will be used.\n",
      "  self._init_dates(dates, freq)\n",
      "/Users/soooniaxx/anaconda3/lib/python3.11/site-packages/statsmodels/tsa/base/tsa_model.py:473: ValueWarning: No frequency information was provided, so inferred frequency MS will be used.\n",
      "  self._init_dates(dates, freq)\n",
      "/Users/soooniaxx/anaconda3/lib/python3.11/site-packages/statsmodels/base/model.py:607: ConvergenceWarning: Maximum Likelihood optimization failed to converge. Check mle_retvals\n",
      "  warnings.warn(\"Maximum Likelihood optimization failed to \"\n",
      "/Users/soooniaxx/anaconda3/lib/python3.11/site-packages/statsmodels/tsa/base/tsa_model.py:473: ValueWarning: No frequency information was provided, so inferred frequency MS will be used.\n",
      "  self._init_dates(dates, freq)\n",
      "/Users/soooniaxx/anaconda3/lib/python3.11/site-packages/statsmodels/tsa/base/tsa_model.py:473: ValueWarning: No frequency information was provided, so inferred frequency MS will be used.\n",
      "  self._init_dates(dates, freq)\n",
      "/Users/soooniaxx/anaconda3/lib/python3.11/site-packages/statsmodels/tsa/base/tsa_model.py:473: ValueWarning: No frequency information was provided, so inferred frequency MS will be used.\n",
      "  self._init_dates(dates, freq)\n",
      "/Users/soooniaxx/anaconda3/lib/python3.11/site-packages/statsmodels/base/model.py:607: ConvergenceWarning: Maximum Likelihood optimization failed to converge. Check mle_retvals\n",
      "  warnings.warn(\"Maximum Likelihood optimization failed to \"\n",
      "/Users/soooniaxx/anaconda3/lib/python3.11/site-packages/statsmodels/tsa/base/tsa_model.py:473: ValueWarning: No frequency information was provided, so inferred frequency MS will be used.\n",
      "  self._init_dates(dates, freq)\n",
      "/Users/soooniaxx/anaconda3/lib/python3.11/site-packages/statsmodels/tsa/base/tsa_model.py:473: ValueWarning: No frequency information was provided, so inferred frequency MS will be used.\n",
      "  self._init_dates(dates, freq)\n",
      "/Users/soooniaxx/anaconda3/lib/python3.11/site-packages/statsmodels/tsa/base/tsa_model.py:473: ValueWarning: No frequency information was provided, so inferred frequency MS will be used.\n",
      "  self._init_dates(dates, freq)\n",
      "/Users/soooniaxx/anaconda3/lib/python3.11/site-packages/statsmodels/base/model.py:607: ConvergenceWarning: Maximum Likelihood optimization failed to converge. Check mle_retvals\n",
      "  warnings.warn(\"Maximum Likelihood optimization failed to \"\n",
      "/Users/soooniaxx/anaconda3/lib/python3.11/site-packages/statsmodels/tsa/base/tsa_model.py:473: ValueWarning: No frequency information was provided, so inferred frequency MS will be used.\n",
      "  self._init_dates(dates, freq)\n",
      "/Users/soooniaxx/anaconda3/lib/python3.11/site-packages/statsmodels/tsa/base/tsa_model.py:473: ValueWarning: No frequency information was provided, so inferred frequency MS will be used.\n",
      "  self._init_dates(dates, freq)\n",
      "/Users/soooniaxx/anaconda3/lib/python3.11/site-packages/statsmodels/tsa/base/tsa_model.py:473: ValueWarning: No frequency information was provided, so inferred frequency MS will be used.\n",
      "  self._init_dates(dates, freq)\n",
      "/Users/soooniaxx/anaconda3/lib/python3.11/site-packages/statsmodels/tsa/base/tsa_model.py:473: ValueWarning: No frequency information was provided, so inferred frequency MS will be used.\n",
      "  self._init_dates(dates, freq)\n",
      "/Users/soooniaxx/anaconda3/lib/python3.11/site-packages/statsmodels/tsa/base/tsa_model.py:473: ValueWarning: No frequency information was provided, so inferred frequency MS will be used.\n",
      "  self._init_dates(dates, freq)\n",
      "/Users/soooniaxx/anaconda3/lib/python3.11/site-packages/statsmodels/tsa/base/tsa_model.py:473: ValueWarning: No frequency information was provided, so inferred frequency MS will be used.\n",
      "  self._init_dates(dates, freq)\n",
      "/Users/soooniaxx/anaconda3/lib/python3.11/site-packages/statsmodels/tsa/base/tsa_model.py:473: ValueWarning: No frequency information was provided, so inferred frequency MS will be used.\n",
      "  self._init_dates(dates, freq)\n",
      "/Users/soooniaxx/anaconda3/lib/python3.11/site-packages/statsmodels/tsa/base/tsa_model.py:473: ValueWarning: No frequency information was provided, so inferred frequency MS will be used.\n",
      "  self._init_dates(dates, freq)\n",
      "/Users/soooniaxx/anaconda3/lib/python3.11/site-packages/statsmodels/tsa/base/tsa_model.py:473: ValueWarning: No frequency information was provided, so inferred frequency MS will be used.\n",
      "  self._init_dates(dates, freq)\n",
      "/Users/soooniaxx/anaconda3/lib/python3.11/site-packages/statsmodels/tsa/base/tsa_model.py:473: ValueWarning: No frequency information was provided, so inferred frequency MS will be used.\n",
      "  self._init_dates(dates, freq)\n",
      "/Users/soooniaxx/anaconda3/lib/python3.11/site-packages/statsmodels/tsa/base/tsa_model.py:473: ValueWarning: No frequency information was provided, so inferred frequency MS will be used.\n",
      "  self._init_dates(dates, freq)\n",
      "/Users/soooniaxx/anaconda3/lib/python3.11/site-packages/statsmodels/tsa/base/tsa_model.py:473: ValueWarning: No frequency information was provided, so inferred frequency MS will be used.\n",
      "  self._init_dates(dates, freq)\n",
      "/Users/soooniaxx/anaconda3/lib/python3.11/site-packages/statsmodels/base/model.py:607: ConvergenceWarning: Maximum Likelihood optimization failed to converge. Check mle_retvals\n",
      "  warnings.warn(\"Maximum Likelihood optimization failed to \"\n",
      "/Users/soooniaxx/anaconda3/lib/python3.11/site-packages/statsmodels/tsa/base/tsa_model.py:473: ValueWarning: No frequency information was provided, so inferred frequency MS will be used.\n",
      "  self._init_dates(dates, freq)\n",
      "/Users/soooniaxx/anaconda3/lib/python3.11/site-packages/statsmodels/tsa/base/tsa_model.py:473: ValueWarning: No frequency information was provided, so inferred frequency MS will be used.\n",
      "  self._init_dates(dates, freq)\n",
      "/Users/soooniaxx/anaconda3/lib/python3.11/site-packages/statsmodels/tsa/base/tsa_model.py:473: ValueWarning: No frequency information was provided, so inferred frequency MS will be used.\n",
      "  self._init_dates(dates, freq)\n"
     ]
    },
    {
     "name": "stderr",
     "output_type": "stream",
     "text": [
      "/Users/soooniaxx/anaconda3/lib/python3.11/site-packages/statsmodels/base/model.py:607: ConvergenceWarning: Maximum Likelihood optimization failed to converge. Check mle_retvals\n",
      "  warnings.warn(\"Maximum Likelihood optimization failed to \"\n",
      "/Users/soooniaxx/anaconda3/lib/python3.11/site-packages/statsmodels/tsa/base/tsa_model.py:473: ValueWarning: No frequency information was provided, so inferred frequency MS will be used.\n",
      "  self._init_dates(dates, freq)\n",
      "/Users/soooniaxx/anaconda3/lib/python3.11/site-packages/statsmodels/tsa/base/tsa_model.py:473: ValueWarning: No frequency information was provided, so inferred frequency MS will be used.\n",
      "  self._init_dates(dates, freq)\n",
      "/Users/soooniaxx/anaconda3/lib/python3.11/site-packages/statsmodels/tsa/base/tsa_model.py:473: ValueWarning: No frequency information was provided, so inferred frequency MS will be used.\n",
      "  self._init_dates(dates, freq)\n",
      "/Users/soooniaxx/anaconda3/lib/python3.11/site-packages/statsmodels/tsa/base/tsa_model.py:473: ValueWarning: No frequency information was provided, so inferred frequency MS will be used.\n",
      "  self._init_dates(dates, freq)\n",
      "/Users/soooniaxx/anaconda3/lib/python3.11/site-packages/statsmodels/tsa/base/tsa_model.py:473: ValueWarning: No frequency information was provided, so inferred frequency MS will be used.\n",
      "  self._init_dates(dates, freq)\n",
      "/Users/soooniaxx/anaconda3/lib/python3.11/site-packages/statsmodels/tsa/base/tsa_model.py:473: ValueWarning: No frequency information was provided, so inferred frequency MS will be used.\n",
      "  self._init_dates(dates, freq)\n",
      "/Users/soooniaxx/anaconda3/lib/python3.11/site-packages/statsmodels/tsa/base/tsa_model.py:473: ValueWarning: No frequency information was provided, so inferred frequency MS will be used.\n",
      "  self._init_dates(dates, freq)\n",
      "/Users/soooniaxx/anaconda3/lib/python3.11/site-packages/statsmodels/tsa/base/tsa_model.py:473: ValueWarning: No frequency information was provided, so inferred frequency MS will be used.\n",
      "  self._init_dates(dates, freq)\n",
      "/Users/soooniaxx/anaconda3/lib/python3.11/site-packages/statsmodels/tsa/base/tsa_model.py:473: ValueWarning: No frequency information was provided, so inferred frequency MS will be used.\n",
      "  self._init_dates(dates, freq)\n",
      "/Users/soooniaxx/anaconda3/lib/python3.11/site-packages/statsmodels/tsa/base/tsa_model.py:473: ValueWarning: No frequency information was provided, so inferred frequency MS will be used.\n",
      "  self._init_dates(dates, freq)\n",
      "/Users/soooniaxx/anaconda3/lib/python3.11/site-packages/statsmodels/tsa/base/tsa_model.py:473: ValueWarning: No frequency information was provided, so inferred frequency MS will be used.\n",
      "  self._init_dates(dates, freq)\n",
      "/Users/soooniaxx/anaconda3/lib/python3.11/site-packages/statsmodels/tsa/base/tsa_model.py:473: ValueWarning: No frequency information was provided, so inferred frequency MS will be used.\n",
      "  self._init_dates(dates, freq)\n",
      "/Users/soooniaxx/anaconda3/lib/python3.11/site-packages/statsmodels/tsa/base/tsa_model.py:473: ValueWarning: No frequency information was provided, so inferred frequency MS will be used.\n",
      "  self._init_dates(dates, freq)\n",
      "/Users/soooniaxx/anaconda3/lib/python3.11/site-packages/statsmodels/tsa/base/tsa_model.py:473: ValueWarning: No frequency information was provided, so inferred frequency MS will be used.\n",
      "  self._init_dates(dates, freq)\n",
      "/Users/soooniaxx/anaconda3/lib/python3.11/site-packages/statsmodels/tsa/base/tsa_model.py:473: ValueWarning: No frequency information was provided, so inferred frequency MS will be used.\n",
      "  self._init_dates(dates, freq)\n",
      "/Users/soooniaxx/anaconda3/lib/python3.11/site-packages/statsmodels/base/model.py:607: ConvergenceWarning: Maximum Likelihood optimization failed to converge. Check mle_retvals\n",
      "  warnings.warn(\"Maximum Likelihood optimization failed to \"\n",
      "/Users/soooniaxx/anaconda3/lib/python3.11/site-packages/statsmodels/tsa/base/tsa_model.py:473: ValueWarning: No frequency information was provided, so inferred frequency MS will be used.\n",
      "  self._init_dates(dates, freq)\n",
      "/Users/soooniaxx/anaconda3/lib/python3.11/site-packages/statsmodels/tsa/base/tsa_model.py:473: ValueWarning: No frequency information was provided, so inferred frequency MS will be used.\n",
      "  self._init_dates(dates, freq)\n",
      "/Users/soooniaxx/anaconda3/lib/python3.11/site-packages/statsmodels/tsa/base/tsa_model.py:473: ValueWarning: No frequency information was provided, so inferred frequency MS will be used.\n",
      "  self._init_dates(dates, freq)\n",
      "/Users/soooniaxx/anaconda3/lib/python3.11/site-packages/statsmodels/tsa/base/tsa_model.py:473: ValueWarning: No frequency information was provided, so inferred frequency MS will be used.\n",
      "  self._init_dates(dates, freq)\n",
      "/Users/soooniaxx/anaconda3/lib/python3.11/site-packages/statsmodels/tsa/base/tsa_model.py:473: ValueWarning: No frequency information was provided, so inferred frequency MS will be used.\n",
      "  self._init_dates(dates, freq)\n",
      "/Users/soooniaxx/anaconda3/lib/python3.11/site-packages/statsmodels/tsa/base/tsa_model.py:473: ValueWarning: No frequency information was provided, so inferred frequency MS will be used.\n",
      "  self._init_dates(dates, freq)\n",
      "/Users/soooniaxx/anaconda3/lib/python3.11/site-packages/statsmodels/tsa/base/tsa_model.py:473: ValueWarning: No frequency information was provided, so inferred frequency MS will be used.\n",
      "  self._init_dates(dates, freq)\n",
      "/Users/soooniaxx/anaconda3/lib/python3.11/site-packages/statsmodels/tsa/base/tsa_model.py:473: ValueWarning: No frequency information was provided, so inferred frequency MS will be used.\n",
      "  self._init_dates(dates, freq)\n",
      "/Users/soooniaxx/anaconda3/lib/python3.11/site-packages/statsmodels/tsa/base/tsa_model.py:473: ValueWarning: No frequency information was provided, so inferred frequency MS will be used.\n",
      "  self._init_dates(dates, freq)\n",
      "/Users/soooniaxx/anaconda3/lib/python3.11/site-packages/statsmodels/tsa/base/tsa_model.py:473: ValueWarning: No frequency information was provided, so inferred frequency MS will be used.\n",
      "  self._init_dates(dates, freq)\n",
      "/Users/soooniaxx/anaconda3/lib/python3.11/site-packages/statsmodels/tsa/base/tsa_model.py:473: ValueWarning: No frequency information was provided, so inferred frequency MS will be used.\n",
      "  self._init_dates(dates, freq)\n",
      "/Users/soooniaxx/anaconda3/lib/python3.11/site-packages/statsmodels/tsa/base/tsa_model.py:473: ValueWarning: No frequency information was provided, so inferred frequency MS will be used.\n",
      "  self._init_dates(dates, freq)\n",
      "/Users/soooniaxx/anaconda3/lib/python3.11/site-packages/statsmodels/base/model.py:607: ConvergenceWarning: Maximum Likelihood optimization failed to converge. Check mle_retvals\n",
      "  warnings.warn(\"Maximum Likelihood optimization failed to \"\n",
      "/Users/soooniaxx/anaconda3/lib/python3.11/site-packages/statsmodels/tsa/base/tsa_model.py:473: ValueWarning: No frequency information was provided, so inferred frequency MS will be used.\n",
      "  self._init_dates(dates, freq)\n",
      "/Users/soooniaxx/anaconda3/lib/python3.11/site-packages/statsmodels/tsa/base/tsa_model.py:473: ValueWarning: No frequency information was provided, so inferred frequency MS will be used.\n",
      "  self._init_dates(dates, freq)\n",
      "/Users/soooniaxx/anaconda3/lib/python3.11/site-packages/statsmodels/tsa/base/tsa_model.py:473: ValueWarning: No frequency information was provided, so inferred frequency MS will be used.\n",
      "  self._init_dates(dates, freq)\n",
      "/Users/soooniaxx/anaconda3/lib/python3.11/site-packages/statsmodels/tsa/base/tsa_model.py:473: ValueWarning: No frequency information was provided, so inferred frequency MS will be used.\n",
      "  self._init_dates(dates, freq)\n",
      "/Users/soooniaxx/anaconda3/lib/python3.11/site-packages/statsmodels/tsa/base/tsa_model.py:473: ValueWarning: No frequency information was provided, so inferred frequency MS will be used.\n",
      "  self._init_dates(dates, freq)\n",
      "/Users/soooniaxx/anaconda3/lib/python3.11/site-packages/statsmodels/tsa/base/tsa_model.py:473: ValueWarning: No frequency information was provided, so inferred frequency MS will be used.\n",
      "  self._init_dates(dates, freq)\n",
      "/Users/soooniaxx/anaconda3/lib/python3.11/site-packages/statsmodels/tsa/base/tsa_model.py:473: ValueWarning: No frequency information was provided, so inferred frequency MS will be used.\n",
      "  self._init_dates(dates, freq)\n",
      "/Users/soooniaxx/anaconda3/lib/python3.11/site-packages/statsmodels/tsa/base/tsa_model.py:473: ValueWarning: No frequency information was provided, so inferred frequency MS will be used.\n",
      "  self._init_dates(dates, freq)\n",
      "/Users/soooniaxx/anaconda3/lib/python3.11/site-packages/statsmodels/tsa/base/tsa_model.py:473: ValueWarning: No frequency information was provided, so inferred frequency MS will be used.\n",
      "  self._init_dates(dates, freq)\n"
     ]
    },
    {
     "name": "stderr",
     "output_type": "stream",
     "text": [
      "/Users/soooniaxx/anaconda3/lib/python3.11/site-packages/statsmodels/tsa/base/tsa_model.py:473: ValueWarning: No frequency information was provided, so inferred frequency MS will be used.\n",
      "  self._init_dates(dates, freq)\n",
      "/Users/soooniaxx/anaconda3/lib/python3.11/site-packages/statsmodels/tsa/base/tsa_model.py:473: ValueWarning: No frequency information was provided, so inferred frequency MS will be used.\n",
      "  self._init_dates(dates, freq)\n",
      "/Users/soooniaxx/anaconda3/lib/python3.11/site-packages/statsmodels/tsa/base/tsa_model.py:473: ValueWarning: No frequency information was provided, so inferred frequency MS will be used.\n",
      "  self._init_dates(dates, freq)\n",
      "/Users/soooniaxx/anaconda3/lib/python3.11/site-packages/statsmodels/base/model.py:607: ConvergenceWarning: Maximum Likelihood optimization failed to converge. Check mle_retvals\n",
      "  warnings.warn(\"Maximum Likelihood optimization failed to \"\n",
      "/Users/soooniaxx/anaconda3/lib/python3.11/site-packages/statsmodels/tsa/base/tsa_model.py:473: ValueWarning: No frequency information was provided, so inferred frequency MS will be used.\n",
      "  self._init_dates(dates, freq)\n",
      "/Users/soooniaxx/anaconda3/lib/python3.11/site-packages/statsmodels/tsa/base/tsa_model.py:473: ValueWarning: No frequency information was provided, so inferred frequency MS will be used.\n",
      "  self._init_dates(dates, freq)\n",
      "/Users/soooniaxx/anaconda3/lib/python3.11/site-packages/statsmodels/tsa/base/tsa_model.py:473: ValueWarning: No frequency information was provided, so inferred frequency MS will be used.\n",
      "  self._init_dates(dates, freq)\n",
      "/Users/soooniaxx/anaconda3/lib/python3.11/site-packages/statsmodels/base/model.py:607: ConvergenceWarning: Maximum Likelihood optimization failed to converge. Check mle_retvals\n",
      "  warnings.warn(\"Maximum Likelihood optimization failed to \"\n",
      "/Users/soooniaxx/anaconda3/lib/python3.11/site-packages/statsmodels/tsa/base/tsa_model.py:473: ValueWarning: No frequency information was provided, so inferred frequency MS will be used.\n",
      "  self._init_dates(dates, freq)\n",
      "/Users/soooniaxx/anaconda3/lib/python3.11/site-packages/statsmodels/tsa/base/tsa_model.py:473: ValueWarning: No frequency information was provided, so inferred frequency MS will be used.\n",
      "  self._init_dates(dates, freq)\n",
      "/Users/soooniaxx/anaconda3/lib/python3.11/site-packages/statsmodels/tsa/base/tsa_model.py:473: ValueWarning: No frequency information was provided, so inferred frequency MS will be used.\n",
      "  self._init_dates(dates, freq)\n",
      "/Users/soooniaxx/anaconda3/lib/python3.11/site-packages/statsmodels/base/model.py:607: ConvergenceWarning: Maximum Likelihood optimization failed to converge. Check mle_retvals\n",
      "  warnings.warn(\"Maximum Likelihood optimization failed to \"\n",
      "/Users/soooniaxx/anaconda3/lib/python3.11/site-packages/statsmodels/tsa/base/tsa_model.py:473: ValueWarning: No frequency information was provided, so inferred frequency MS will be used.\n",
      "  self._init_dates(dates, freq)\n",
      "/Users/soooniaxx/anaconda3/lib/python3.11/site-packages/statsmodels/tsa/base/tsa_model.py:473: ValueWarning: No frequency information was provided, so inferred frequency MS will be used.\n",
      "  self._init_dates(dates, freq)\n",
      "/Users/soooniaxx/anaconda3/lib/python3.11/site-packages/statsmodels/tsa/base/tsa_model.py:473: ValueWarning: No frequency information was provided, so inferred frequency MS will be used.\n",
      "  self._init_dates(dates, freq)\n",
      "/Users/soooniaxx/anaconda3/lib/python3.11/site-packages/statsmodels/tsa/base/tsa_model.py:473: ValueWarning: No frequency information was provided, so inferred frequency MS will be used.\n",
      "  self._init_dates(dates, freq)\n",
      "/Users/soooniaxx/anaconda3/lib/python3.11/site-packages/statsmodels/tsa/base/tsa_model.py:473: ValueWarning: No frequency information was provided, so inferred frequency MS will be used.\n",
      "  self._init_dates(dates, freq)\n",
      "/Users/soooniaxx/anaconda3/lib/python3.11/site-packages/statsmodels/tsa/base/tsa_model.py:473: ValueWarning: No frequency information was provided, so inferred frequency MS will be used.\n",
      "  self._init_dates(dates, freq)\n",
      "/Users/soooniaxx/anaconda3/lib/python3.11/site-packages/statsmodels/tsa/base/tsa_model.py:473: ValueWarning: No frequency information was provided, so inferred frequency MS will be used.\n",
      "  self._init_dates(dates, freq)\n",
      "/Users/soooniaxx/anaconda3/lib/python3.11/site-packages/statsmodels/tsa/base/tsa_model.py:473: ValueWarning: No frequency information was provided, so inferred frequency MS will be used.\n",
      "  self._init_dates(dates, freq)\n",
      "/Users/soooniaxx/anaconda3/lib/python3.11/site-packages/statsmodels/tsa/base/tsa_model.py:473: ValueWarning: No frequency information was provided, so inferred frequency MS will be used.\n",
      "  self._init_dates(dates, freq)\n",
      "/Users/soooniaxx/anaconda3/lib/python3.11/site-packages/statsmodels/base/model.py:607: ConvergenceWarning: Maximum Likelihood optimization failed to converge. Check mle_retvals\n",
      "  warnings.warn(\"Maximum Likelihood optimization failed to \"\n",
      "/Users/soooniaxx/anaconda3/lib/python3.11/site-packages/statsmodels/tsa/base/tsa_model.py:473: ValueWarning: No frequency information was provided, so inferred frequency MS will be used.\n",
      "  self._init_dates(dates, freq)\n",
      "/Users/soooniaxx/anaconda3/lib/python3.11/site-packages/statsmodels/tsa/base/tsa_model.py:473: ValueWarning: No frequency information was provided, so inferred frequency MS will be used.\n",
      "  self._init_dates(dates, freq)\n",
      "/Users/soooniaxx/anaconda3/lib/python3.11/site-packages/statsmodels/tsa/base/tsa_model.py:473: ValueWarning: No frequency information was provided, so inferred frequency MS will be used.\n",
      "  self._init_dates(dates, freq)\n",
      "/Users/soooniaxx/anaconda3/lib/python3.11/site-packages/statsmodels/base/model.py:607: ConvergenceWarning: Maximum Likelihood optimization failed to converge. Check mle_retvals\n",
      "  warnings.warn(\"Maximum Likelihood optimization failed to \"\n",
      "/Users/soooniaxx/anaconda3/lib/python3.11/site-packages/statsmodels/tsa/base/tsa_model.py:473: ValueWarning: No frequency information was provided, so inferred frequency MS will be used.\n",
      "  self._init_dates(dates, freq)\n",
      "/Users/soooniaxx/anaconda3/lib/python3.11/site-packages/statsmodels/tsa/base/tsa_model.py:473: ValueWarning: No frequency information was provided, so inferred frequency MS will be used.\n",
      "  self._init_dates(dates, freq)\n",
      "/Users/soooniaxx/anaconda3/lib/python3.11/site-packages/statsmodels/tsa/base/tsa_model.py:473: ValueWarning: No frequency information was provided, so inferred frequency MS will be used.\n",
      "  self._init_dates(dates, freq)\n",
      "/Users/soooniaxx/anaconda3/lib/python3.11/site-packages/statsmodels/base/model.py:607: ConvergenceWarning: Maximum Likelihood optimization failed to converge. Check mle_retvals\n",
      "  warnings.warn(\"Maximum Likelihood optimization failed to \"\n",
      "/Users/soooniaxx/anaconda3/lib/python3.11/site-packages/statsmodels/tsa/base/tsa_model.py:473: ValueWarning: No frequency information was provided, so inferred frequency MS will be used.\n",
      "  self._init_dates(dates, freq)\n",
      "/Users/soooniaxx/anaconda3/lib/python3.11/site-packages/statsmodels/tsa/base/tsa_model.py:473: ValueWarning: No frequency information was provided, so inferred frequency MS will be used.\n",
      "  self._init_dates(dates, freq)\n",
      "/Users/soooniaxx/anaconda3/lib/python3.11/site-packages/statsmodels/tsa/base/tsa_model.py:473: ValueWarning: No frequency information was provided, so inferred frequency MS will be used.\n",
      "  self._init_dates(dates, freq)\n",
      "/Users/soooniaxx/anaconda3/lib/python3.11/site-packages/statsmodels/tsa/base/tsa_model.py:473: ValueWarning: No frequency information was provided, so inferred frequency MS will be used.\n",
      "  self._init_dates(dates, freq)\n",
      "/Users/soooniaxx/anaconda3/lib/python3.11/site-packages/statsmodels/tsa/base/tsa_model.py:473: ValueWarning: No frequency information was provided, so inferred frequency MS will be used.\n",
      "  self._init_dates(dates, freq)\n",
      "/Users/soooniaxx/anaconda3/lib/python3.11/site-packages/statsmodels/tsa/base/tsa_model.py:473: ValueWarning: No frequency information was provided, so inferred frequency MS will be used.\n",
      "  self._init_dates(dates, freq)\n",
      "/Users/soooniaxx/anaconda3/lib/python3.11/site-packages/statsmodels/tsa/base/tsa_model.py:473: ValueWarning: No frequency information was provided, so inferred frequency MS will be used.\n",
      "  self._init_dates(dates, freq)\n",
      "/Users/soooniaxx/anaconda3/lib/python3.11/site-packages/statsmodels/tsa/base/tsa_model.py:473: ValueWarning: No frequency information was provided, so inferred frequency MS will be used.\n",
      "  self._init_dates(dates, freq)\n",
      "/Users/soooniaxx/anaconda3/lib/python3.11/site-packages/statsmodels/tsa/base/tsa_model.py:473: ValueWarning: No frequency information was provided, so inferred frequency MS will be used.\n",
      "  self._init_dates(dates, freq)\n",
      "/Users/soooniaxx/anaconda3/lib/python3.11/site-packages/statsmodels/tsa/base/tsa_model.py:473: ValueWarning: No frequency information was provided, so inferred frequency MS will be used.\n",
      "  self._init_dates(dates, freq)\n",
      "/Users/soooniaxx/anaconda3/lib/python3.11/site-packages/statsmodels/tsa/base/tsa_model.py:473: ValueWarning: No frequency information was provided, so inferred frequency MS will be used.\n",
      "  self._init_dates(dates, freq)\n",
      "/Users/soooniaxx/anaconda3/lib/python3.11/site-packages/statsmodels/tsa/base/tsa_model.py:473: ValueWarning: No frequency information was provided, so inferred frequency MS will be used.\n",
      "  self._init_dates(dates, freq)\n",
      "/Users/soooniaxx/anaconda3/lib/python3.11/site-packages/statsmodels/base/model.py:607: ConvergenceWarning: Maximum Likelihood optimization failed to converge. Check mle_retvals\n",
      "  warnings.warn(\"Maximum Likelihood optimization failed to \"\n"
     ]
    },
    {
     "name": "stderr",
     "output_type": "stream",
     "text": [
      "/Users/soooniaxx/anaconda3/lib/python3.11/site-packages/statsmodels/tsa/base/tsa_model.py:473: ValueWarning: No frequency information was provided, so inferred frequency MS will be used.\n",
      "  self._init_dates(dates, freq)\n",
      "/Users/soooniaxx/anaconda3/lib/python3.11/site-packages/statsmodels/tsa/base/tsa_model.py:473: ValueWarning: No frequency information was provided, so inferred frequency MS will be used.\n",
      "  self._init_dates(dates, freq)\n",
      "/Users/soooniaxx/anaconda3/lib/python3.11/site-packages/statsmodels/tsa/base/tsa_model.py:473: ValueWarning: No frequency information was provided, so inferred frequency MS will be used.\n",
      "  self._init_dates(dates, freq)\n",
      "/Users/soooniaxx/anaconda3/lib/python3.11/site-packages/statsmodels/base/model.py:607: ConvergenceWarning: Maximum Likelihood optimization failed to converge. Check mle_retvals\n",
      "  warnings.warn(\"Maximum Likelihood optimization failed to \"\n",
      "/Users/soooniaxx/anaconda3/lib/python3.11/site-packages/statsmodels/tsa/base/tsa_model.py:473: ValueWarning: No frequency information was provided, so inferred frequency MS will be used.\n",
      "  self._init_dates(dates, freq)\n",
      "/Users/soooniaxx/anaconda3/lib/python3.11/site-packages/statsmodels/tsa/base/tsa_model.py:473: ValueWarning: No frequency information was provided, so inferred frequency MS will be used.\n",
      "  self._init_dates(dates, freq)\n",
      "/Users/soooniaxx/anaconda3/lib/python3.11/site-packages/statsmodels/tsa/base/tsa_model.py:473: ValueWarning: No frequency information was provided, so inferred frequency MS will be used.\n",
      "  self._init_dates(dates, freq)\n",
      "/Users/soooniaxx/anaconda3/lib/python3.11/site-packages/statsmodels/tsa/base/tsa_model.py:473: ValueWarning: No frequency information was provided, so inferred frequency MS will be used.\n",
      "  self._init_dates(dates, freq)\n",
      "/Users/soooniaxx/anaconda3/lib/python3.11/site-packages/statsmodels/tsa/base/tsa_model.py:473: ValueWarning: No frequency information was provided, so inferred frequency MS will be used.\n",
      "  self._init_dates(dates, freq)\n",
      "/Users/soooniaxx/anaconda3/lib/python3.11/site-packages/statsmodels/tsa/base/tsa_model.py:473: ValueWarning: No frequency information was provided, so inferred frequency MS will be used.\n",
      "  self._init_dates(dates, freq)\n",
      "/Users/soooniaxx/anaconda3/lib/python3.11/site-packages/statsmodels/base/model.py:607: ConvergenceWarning: Maximum Likelihood optimization failed to converge. Check mle_retvals\n",
      "  warnings.warn(\"Maximum Likelihood optimization failed to \"\n",
      "/Users/soooniaxx/anaconda3/lib/python3.11/site-packages/statsmodels/tsa/base/tsa_model.py:473: ValueWarning: No frequency information was provided, so inferred frequency MS will be used.\n",
      "  self._init_dates(dates, freq)\n",
      "/Users/soooniaxx/anaconda3/lib/python3.11/site-packages/statsmodels/tsa/base/tsa_model.py:473: ValueWarning: No frequency information was provided, so inferred frequency MS will be used.\n",
      "  self._init_dates(dates, freq)\n",
      "/Users/soooniaxx/anaconda3/lib/python3.11/site-packages/statsmodels/tsa/base/tsa_model.py:473: ValueWarning: No frequency information was provided, so inferred frequency MS will be used.\n",
      "  self._init_dates(dates, freq)\n",
      "/Users/soooniaxx/anaconda3/lib/python3.11/site-packages/statsmodels/base/model.py:607: ConvergenceWarning: Maximum Likelihood optimization failed to converge. Check mle_retvals\n",
      "  warnings.warn(\"Maximum Likelihood optimization failed to \"\n",
      "/Users/soooniaxx/anaconda3/lib/python3.11/site-packages/statsmodels/tsa/base/tsa_model.py:473: ValueWarning: No frequency information was provided, so inferred frequency MS will be used.\n",
      "  self._init_dates(dates, freq)\n",
      "/Users/soooniaxx/anaconda3/lib/python3.11/site-packages/statsmodels/tsa/base/tsa_model.py:473: ValueWarning: No frequency information was provided, so inferred frequency MS will be used.\n",
      "  self._init_dates(dates, freq)\n",
      "/Users/soooniaxx/anaconda3/lib/python3.11/site-packages/statsmodels/tsa/base/tsa_model.py:473: ValueWarning: No frequency information was provided, so inferred frequency MS will be used.\n",
      "  self._init_dates(dates, freq)\n",
      "/Users/soooniaxx/anaconda3/lib/python3.11/site-packages/statsmodels/tsa/base/tsa_model.py:473: ValueWarning: No frequency information was provided, so inferred frequency MS will be used.\n",
      "  self._init_dates(dates, freq)\n",
      "/Users/soooniaxx/anaconda3/lib/python3.11/site-packages/statsmodels/tsa/base/tsa_model.py:473: ValueWarning: No frequency information was provided, so inferred frequency MS will be used.\n",
      "  self._init_dates(dates, freq)\n",
      "/Users/soooniaxx/anaconda3/lib/python3.11/site-packages/statsmodels/tsa/base/tsa_model.py:473: ValueWarning: No frequency information was provided, so inferred frequency MS will be used.\n",
      "  self._init_dates(dates, freq)\n",
      "/Users/soooniaxx/anaconda3/lib/python3.11/site-packages/statsmodels/base/model.py:607: ConvergenceWarning: Maximum Likelihood optimization failed to converge. Check mle_retvals\n",
      "  warnings.warn(\"Maximum Likelihood optimization failed to \"\n",
      "/Users/soooniaxx/anaconda3/lib/python3.11/site-packages/statsmodels/tsa/base/tsa_model.py:473: ValueWarning: No frequency information was provided, so inferred frequency MS will be used.\n",
      "  self._init_dates(dates, freq)\n",
      "/Users/soooniaxx/anaconda3/lib/python3.11/site-packages/statsmodels/tsa/base/tsa_model.py:473: ValueWarning: No frequency information was provided, so inferred frequency MS will be used.\n",
      "  self._init_dates(dates, freq)\n",
      "/Users/soooniaxx/anaconda3/lib/python3.11/site-packages/statsmodels/tsa/base/tsa_model.py:473: ValueWarning: No frequency information was provided, so inferred frequency MS will be used.\n",
      "  self._init_dates(dates, freq)\n",
      "/Users/soooniaxx/anaconda3/lib/python3.11/site-packages/statsmodels/tsa/base/tsa_model.py:473: ValueWarning: No frequency information was provided, so inferred frequency MS will be used.\n",
      "  self._init_dates(dates, freq)\n",
      "/Users/soooniaxx/anaconda3/lib/python3.11/site-packages/statsmodels/tsa/base/tsa_model.py:473: ValueWarning: No frequency information was provided, so inferred frequency MS will be used.\n",
      "  self._init_dates(dates, freq)\n",
      "/Users/soooniaxx/anaconda3/lib/python3.11/site-packages/statsmodels/tsa/base/tsa_model.py:473: ValueWarning: No frequency information was provided, so inferred frequency MS will be used.\n",
      "  self._init_dates(dates, freq)\n",
      "/Users/soooniaxx/anaconda3/lib/python3.11/site-packages/statsmodels/tsa/base/tsa_model.py:473: ValueWarning: No frequency information was provided, so inferred frequency MS will be used.\n",
      "  self._init_dates(dates, freq)\n",
      "/Users/soooniaxx/anaconda3/lib/python3.11/site-packages/statsmodels/tsa/base/tsa_model.py:473: ValueWarning: No frequency information was provided, so inferred frequency MS will be used.\n",
      "  self._init_dates(dates, freq)\n",
      "/Users/soooniaxx/anaconda3/lib/python3.11/site-packages/statsmodels/tsa/base/tsa_model.py:473: ValueWarning: No frequency information was provided, so inferred frequency MS will be used.\n",
      "  self._init_dates(dates, freq)\n",
      "/Users/soooniaxx/anaconda3/lib/python3.11/site-packages/statsmodels/base/model.py:607: ConvergenceWarning: Maximum Likelihood optimization failed to converge. Check mle_retvals\n",
      "  warnings.warn(\"Maximum Likelihood optimization failed to \"\n",
      "/Users/soooniaxx/anaconda3/lib/python3.11/site-packages/statsmodels/tsa/base/tsa_model.py:473: ValueWarning: No frequency information was provided, so inferred frequency MS will be used.\n",
      "  self._init_dates(dates, freq)\n",
      "/Users/soooniaxx/anaconda3/lib/python3.11/site-packages/statsmodels/tsa/base/tsa_model.py:473: ValueWarning: No frequency information was provided, so inferred frequency MS will be used.\n",
      "  self._init_dates(dates, freq)\n",
      "/Users/soooniaxx/anaconda3/lib/python3.11/site-packages/statsmodels/tsa/base/tsa_model.py:473: ValueWarning: No frequency information was provided, so inferred frequency MS will be used.\n",
      "  self._init_dates(dates, freq)\n",
      "/Users/soooniaxx/anaconda3/lib/python3.11/site-packages/statsmodels/tsa/base/tsa_model.py:473: ValueWarning: No frequency information was provided, so inferred frequency MS will be used.\n",
      "  self._init_dates(dates, freq)\n",
      "/Users/soooniaxx/anaconda3/lib/python3.11/site-packages/statsmodels/tsa/base/tsa_model.py:473: ValueWarning: No frequency information was provided, so inferred frequency MS will be used.\n",
      "  self._init_dates(dates, freq)\n",
      "/Users/soooniaxx/anaconda3/lib/python3.11/site-packages/statsmodels/tsa/base/tsa_model.py:473: ValueWarning: No frequency information was provided, so inferred frequency MS will be used.\n",
      "  self._init_dates(dates, freq)\n"
     ]
    },
    {
     "name": "stdout",
     "output_type": "stream",
     "text": [
      "Best AIC: 285.55758124424904\n",
      "Best (p, d, q): (4, 1, 2)\n"
     ]
    },
    {
     "name": "stderr",
     "output_type": "stream",
     "text": [
      "/Users/soooniaxx/anaconda3/lib/python3.11/site-packages/statsmodels/base/model.py:607: ConvergenceWarning: Maximum Likelihood optimization failed to converge. Check mle_retvals\n",
      "  warnings.warn(\"Maximum Likelihood optimization failed to \"\n"
     ]
    }
   ],
   "source": [
    "import pandas as pd\n",
    "from statsmodels.tsa.arima.model import ARIMA\n",
    "\n",
    "# Load your time series data\n",
    "# Assuming your data is in 'series'\n",
    "\n",
    "# Define the range of p, d, q values to consider\n",
    "p_values = range(5)\n",
    "d_values = range(5)\n",
    "q_values = range(5)\n",
    "\n",
    "# Initialize variables to store best values and AIC\n",
    "best_aic = float(\"inf\")\n",
    "best_pdq = None\n",
    "\n",
    "# Loop through all combinations of p, d, q\n",
    "for p in p_values:\n",
    "    for d in d_values:\n",
    "        for q in q_values:\n",
    "            try:\n",
    "                model_aic = ARIMA(ts_train, order=(p, d, q))\n",
    "                results_aic = model_aic.fit()\n",
    "                aic = results_aic.aic\n",
    "                if aic < best_aic:\n",
    "                    best_aic = aic\n",
    "                    best_pdq = (p, d, q)\n",
    "            except:\n",
    "                continue\n",
    "\n",
    "print(\"Best AIC:\", best_aic)\n",
    "print(\"Best (p, d, q):\", best_pdq)"
   ]
  },
  {
   "cell_type": "code",
   "execution_count": null,
   "id": "ae1a0266",
   "metadata": {},
   "outputs": [],
   "source": [
    "from statsmodels.tsa.arima_model import ARIMA\n",
    "\n",
    "p=4\n",
    "d=1\n",
    "q=2\n",
    "model_ari2 = sm.tsa.arima.model.ARIMA(ts_train, order = (p,d,q))\n",
    "ari2 = model_ari2.fit()\n",
    "ari2.summary()"
   ]
  },
  {
   "cell_type": "code",
   "execution_count": null,
   "id": "d81ccc28",
   "metadata": {},
   "outputs": [],
   "source": [
    "from statsmodels.tsa.arima_model import ARIMA\n",
    "\n",
    "p=4\n",
    "d=1\n",
    "q=2\n",
    "model_ari_412 = sm.tsa.arima.model.ARIMA(ts_train, order = (p,d,q))\n",
    "ari412 = model_ari_412.fit()\n",
    "\n",
    "ari412_for = ari412.forecast(24)\n",
    "\n",
    "# And plot al together\n",
    "plt.figure(figsize=(16,5))\n",
    "plt.plot(ts_train, label = 'In-sample')\n",
    "plt.plot(ts_valid, label = 'Validation')\n",
    "plt.plot(ari412_for, '--g',label = 'ARIMA (4,1,2) fitted values')\n",
    "plt.axvline(x=ts.index[len(ts_train)],color='black',alpha=0.5)\n",
    "\n",
    "plt.xlabel(\"Date\")\n",
    "plt.ylabel(\"Underemployment rate\")\n",
    "plt.title(\"ARIMA(4,1,2) model fitted vs true values\")\n",
    "plt.legend()\n",
    "plt.show()\n",
    "# plt.savefig('arima_412_aic')"
   ]
  },
  {
   "cell_type": "markdown",
   "id": "4e97a7a1",
   "metadata": {},
   "source": [
    "### 3.4.6 ARIMA RMSE"
   ]
  },
  {
   "cell_type": "code",
   "execution_count": null,
   "id": "ea2a3917",
   "metadata": {},
   "outputs": [],
   "source": [
    "import math\n",
    "ari_rmse = math.sqrt(mean_squared_error(ts_valid, ari412_for))\n",
    "print('RMSE: {0:.4f}'.format(ari_rmse))"
   ]
  },
  {
   "cell_type": "markdown",
   "id": "44c676d0",
   "metadata": {},
   "source": [
    "## 3.5 SARIMA"
   ]
  },
  {
   "cell_type": "code",
   "execution_count": null,
   "id": "4616d106",
   "metadata": {},
   "outputs": [],
   "source": [
    "from statsmodels.tsa.statespace.sarimax import SARIMAX"
   ]
  },
  {
   "cell_type": "code",
   "execution_count": null,
   "id": "9c3ccf86",
   "metadata": {},
   "outputs": [],
   "source": [
    "# SARIMAX(2,1,2)\n",
    "model_sarima1 = SARIMAX(ts_train, \n",
    "                order=(2,1,2), \n",
    "                seasonal_order=(1,1,1, 12),\n",
    "                enforce_stationarity=False,\n",
    "                enforce_invertibility=False)\n",
    "\n",
    "# Fit the SARIMAX model \n",
    "model_sarima1_fit = model_sarima1.fit(disp = -1)\n",
    "\n",
    "# Forecast \n",
    "model_sarima1_forecast = model_sarima1_fit.forecast(24)"
   ]
  },
  {
   "cell_type": "code",
   "execution_count": null,
   "id": "323f2bff",
   "metadata": {},
   "outputs": [],
   "source": [
    "model_sarima1_forecast"
   ]
  },
  {
   "cell_type": "code",
   "execution_count": null,
   "id": "e468ee44",
   "metadata": {},
   "outputs": [],
   "source": [
    "print(model_sarima1_fit.summary())"
   ]
  },
  {
   "cell_type": "code",
   "execution_count": null,
   "id": "a46cdebd",
   "metadata": {
    "scrolled": true
   },
   "outputs": [],
   "source": [
    "# Plot forecast and true values\n",
    "plt.figure(figsize=(15,5))\n",
    "plt.plot(ts_train,label='Train')\n",
    "plt.plot(ts_valid,'b',label='Valid_true')\n",
    "\n",
    "plt.plot(ts_valid.index, model_sarima1_forecast,'r',label='Valid_forecast')\n",
    "plt.title(\"SARIMA(2,1,2)\")\n",
    "plt.legend()\n",
    "plt.axvline(x=ts.index[len(ts_train)],color='black')  # Make a vertical line indicating train/test separation\n",
    "plt.show()"
   ]
  },
  {
   "cell_type": "code",
   "execution_count": null,
   "id": "22a2281d",
   "metadata": {},
   "outputs": [],
   "source": [
    "sarima1_rmse = mean_squared_error(ts_valid,model_sarima1_forecast)**0.5\n",
    "print('RMSE: {0:.4f}'.format(sarima1_rmse))"
   ]
  },
  {
   "cell_type": "code",
   "execution_count": null,
   "id": "d2698edf",
   "metadata": {},
   "outputs": [],
   "source": [
    "#SARIMAX(1,1,2)\n",
    "model_sarima2 = SARIMAX(ts_train, \n",
    "                order=(1,1,2), \n",
    "                seasonal_order=(1,1,1, 12),\n",
    "                enforce_stationarity=False,\n",
    "                enforce_invertibility=False)\n",
    "\n",
    "# Fit the SARIMAX model \n",
    "model_sarima2_fit = model_sarima2.fit(disp = -1)\n",
    "\n",
    "# Forecast \n",
    "model_sarima2_forecast = model_sarima2_fit.forecast(24)"
   ]
  },
  {
   "cell_type": "code",
   "execution_count": null,
   "id": "e0d9b70d",
   "metadata": {},
   "outputs": [],
   "source": [
    "model_sarima2_forecast"
   ]
  },
  {
   "cell_type": "code",
   "execution_count": null,
   "id": "164fcb04",
   "metadata": {},
   "outputs": [],
   "source": [
    "print(model_sarima2_fit.summary())"
   ]
  },
  {
   "cell_type": "code",
   "execution_count": null,
   "id": "8fa6fa13",
   "metadata": {},
   "outputs": [],
   "source": [
    "# Plot forecast and true values\n",
    "plt.figure(figsize=(15,5))\n",
    "plt.plot(ts_train,label='Train')\n",
    "plt.plot(ts_valid,'b',label='Valid_true')\n",
    "\n",
    "plt.plot(ts_valid.index, model_sarima2_forecast,'r',label='Valid_forecast')\n",
    "plt.title(\"SARIMA(1,1,2)\")\n",
    "plt.xlabel('Date')\n",
    "plt.ylabel('Underemployment Rate')\n",
    "plt.legend()\n",
    "plt.axvline(x=ts.index[len(ts_train)],color='black')  # Make a vertical line indicating train/test separation\n",
    "plt.show()"
   ]
  },
  {
   "cell_type": "code",
   "execution_count": null,
   "id": "74949804",
   "metadata": {},
   "outputs": [],
   "source": [
    "sarima2_rmse = mean_squared_error(ts_valid,model_sarima2_forecast)**0.5\n",
    "print('RMSE: {0:.4f}'.format(sarima2_rmse))"
   ]
  },
  {
   "cell_type": "code",
   "execution_count": null,
   "id": "88b2d8d5",
   "metadata": {},
   "outputs": [
    {
     "name": "stderr",
     "output_type": "stream",
     "text": [
      "/Users/soooniaxx/anaconda3/lib/python3.11/site-packages/statsmodels/tsa/base/tsa_model.py:473: ValueWarning: No frequency information was provided, so inferred frequency MS will be used.\n",
      "  self._init_dates(dates, freq)\n",
      "/Users/soooniaxx/anaconda3/lib/python3.11/site-packages/statsmodels/tsa/base/tsa_model.py:473: ValueWarning: No frequency information was provided, so inferred frequency MS will be used.\n",
      "  self._init_dates(dates, freq)\n",
      "/Users/soooniaxx/anaconda3/lib/python3.11/site-packages/statsmodels/tsa/base/tsa_model.py:473: ValueWarning: No frequency information was provided, so inferred frequency MS will be used.\n",
      "  self._init_dates(dates, freq)\n",
      "/Users/soooniaxx/anaconda3/lib/python3.11/site-packages/statsmodels/tsa/base/tsa_model.py:473: ValueWarning: No frequency information was provided, so inferred frequency MS will be used.\n",
      "  self._init_dates(dates, freq)\n",
      "/Users/soooniaxx/anaconda3/lib/python3.11/site-packages/statsmodels/tsa/base/tsa_model.py:473: ValueWarning: No frequency information was provided, so inferred frequency MS will be used.\n",
      "  self._init_dates(dates, freq)\n",
      "/Users/soooniaxx/anaconda3/lib/python3.11/site-packages/statsmodels/tsa/base/tsa_model.py:473: ValueWarning: No frequency information was provided, so inferred frequency MS will be used.\n",
      "  self._init_dates(dates, freq)\n",
      "/Users/soooniaxx/anaconda3/lib/python3.11/site-packages/statsmodels/tsa/base/tsa_model.py:473: ValueWarning: No frequency information was provided, so inferred frequency MS will be used.\n",
      "  self._init_dates(dates, freq)\n",
      "/Users/soooniaxx/anaconda3/lib/python3.11/site-packages/statsmodels/tsa/base/tsa_model.py:473: ValueWarning: No frequency information was provided, so inferred frequency MS will be used.\n",
      "  self._init_dates(dates, freq)\n",
      "/Users/soooniaxx/anaconda3/lib/python3.11/site-packages/statsmodels/tsa/base/tsa_model.py:473: ValueWarning: No frequency information was provided, so inferred frequency MS will be used.\n",
      "  self._init_dates(dates, freq)\n",
      "/Users/soooniaxx/anaconda3/lib/python3.11/site-packages/statsmodels/tsa/base/tsa_model.py:473: ValueWarning: No frequency information was provided, so inferred frequency MS will be used.\n",
      "  self._init_dates(dates, freq)\n",
      "/Users/soooniaxx/anaconda3/lib/python3.11/site-packages/statsmodels/tsa/base/tsa_model.py:473: ValueWarning: No frequency information was provided, so inferred frequency MS will be used.\n",
      "  self._init_dates(dates, freq)\n",
      "/Users/soooniaxx/anaconda3/lib/python3.11/site-packages/statsmodels/tsa/base/tsa_model.py:473: ValueWarning: No frequency information was provided, so inferred frequency MS will be used.\n",
      "  self._init_dates(dates, freq)\n",
      "/Users/soooniaxx/anaconda3/lib/python3.11/site-packages/statsmodels/tsa/base/tsa_model.py:473: ValueWarning: No frequency information was provided, so inferred frequency MS will be used.\n",
      "  self._init_dates(dates, freq)\n",
      "/Users/soooniaxx/anaconda3/lib/python3.11/site-packages/statsmodels/tsa/base/tsa_model.py:473: ValueWarning: No frequency information was provided, so inferred frequency MS will be used.\n",
      "  self._init_dates(dates, freq)\n",
      "/Users/soooniaxx/anaconda3/lib/python3.11/site-packages/statsmodels/tsa/base/tsa_model.py:473: ValueWarning: No frequency information was provided, so inferred frequency MS will be used.\n",
      "  self._init_dates(dates, freq)\n",
      "/Users/soooniaxx/anaconda3/lib/python3.11/site-packages/statsmodels/tsa/base/tsa_model.py:473: ValueWarning: No frequency information was provided, so inferred frequency MS will be used.\n",
      "  self._init_dates(dates, freq)\n",
      "/Users/soooniaxx/anaconda3/lib/python3.11/site-packages/statsmodels/tsa/base/tsa_model.py:473: ValueWarning: No frequency information was provided, so inferred frequency MS will be used.\n",
      "  self._init_dates(dates, freq)\n",
      "/Users/soooniaxx/anaconda3/lib/python3.11/site-packages/statsmodels/tsa/base/tsa_model.py:473: ValueWarning: No frequency information was provided, so inferred frequency MS will be used.\n",
      "  self._init_dates(dates, freq)\n",
      "/Users/soooniaxx/anaconda3/lib/python3.11/site-packages/statsmodels/tsa/base/tsa_model.py:473: ValueWarning: No frequency information was provided, so inferred frequency MS will be used.\n",
      "  self._init_dates(dates, freq)\n",
      "/Users/soooniaxx/anaconda3/lib/python3.11/site-packages/statsmodels/tsa/base/tsa_model.py:473: ValueWarning: No frequency information was provided, so inferred frequency MS will be used.\n",
      "  self._init_dates(dates, freq)\n",
      "/Users/soooniaxx/anaconda3/lib/python3.11/site-packages/statsmodels/tsa/base/tsa_model.py:473: ValueWarning: No frequency information was provided, so inferred frequency MS will be used.\n",
      "  self._init_dates(dates, freq)\n",
      "/Users/soooniaxx/anaconda3/lib/python3.11/site-packages/statsmodels/tsa/base/tsa_model.py:473: ValueWarning: No frequency information was provided, so inferred frequency MS will be used.\n",
      "  self._init_dates(dates, freq)\n",
      "/Users/soooniaxx/anaconda3/lib/python3.11/site-packages/statsmodels/tsa/base/tsa_model.py:473: ValueWarning: No frequency information was provided, so inferred frequency MS will be used.\n",
      "  self._init_dates(dates, freq)\n",
      "/Users/soooniaxx/anaconda3/lib/python3.11/site-packages/statsmodels/tsa/base/tsa_model.py:473: ValueWarning: No frequency information was provided, so inferred frequency MS will be used.\n",
      "  self._init_dates(dates, freq)\n",
      "/Users/soooniaxx/anaconda3/lib/python3.11/site-packages/statsmodels/tsa/base/tsa_model.py:473: ValueWarning: No frequency information was provided, so inferred frequency MS will be used.\n",
      "  self._init_dates(dates, freq)\n",
      "/Users/soooniaxx/anaconda3/lib/python3.11/site-packages/statsmodels/tsa/base/tsa_model.py:473: ValueWarning: No frequency information was provided, so inferred frequency MS will be used.\n",
      "  self._init_dates(dates, freq)\n",
      "/Users/soooniaxx/anaconda3/lib/python3.11/site-packages/statsmodels/tsa/base/tsa_model.py:473: ValueWarning: No frequency information was provided, so inferred frequency MS will be used.\n",
      "  self._init_dates(dates, freq)\n",
      "/Users/soooniaxx/anaconda3/lib/python3.11/site-packages/statsmodels/tsa/base/tsa_model.py:473: ValueWarning: No frequency information was provided, so inferred frequency MS will be used.\n",
      "  self._init_dates(dates, freq)\n",
      "/Users/soooniaxx/anaconda3/lib/python3.11/site-packages/statsmodels/tsa/base/tsa_model.py:473: ValueWarning: No frequency information was provided, so inferred frequency MS will be used.\n",
      "  self._init_dates(dates, freq)\n",
      "/Users/soooniaxx/anaconda3/lib/python3.11/site-packages/statsmodels/tsa/base/tsa_model.py:473: ValueWarning: No frequency information was provided, so inferred frequency MS will be used.\n",
      "  self._init_dates(dates, freq)\n",
      "/Users/soooniaxx/anaconda3/lib/python3.11/site-packages/statsmodels/tsa/base/tsa_model.py:473: ValueWarning: No frequency information was provided, so inferred frequency MS will be used.\n",
      "  self._init_dates(dates, freq)\n",
      "/Users/soooniaxx/anaconda3/lib/python3.11/site-packages/statsmodels/tsa/base/tsa_model.py:473: ValueWarning: No frequency information was provided, so inferred frequency MS will be used.\n",
      "  self._init_dates(dates, freq)\n",
      "/Users/soooniaxx/anaconda3/lib/python3.11/site-packages/statsmodels/tsa/base/tsa_model.py:473: ValueWarning: No frequency information was provided, so inferred frequency MS will be used.\n",
      "  self._init_dates(dates, freq)\n",
      "/Users/soooniaxx/anaconda3/lib/python3.11/site-packages/statsmodels/tsa/base/tsa_model.py:473: ValueWarning: No frequency information was provided, so inferred frequency MS will be used.\n",
      "  self._init_dates(dates, freq)\n",
      "/Users/soooniaxx/anaconda3/lib/python3.11/site-packages/statsmodels/tsa/base/tsa_model.py:473: ValueWarning: No frequency information was provided, so inferred frequency MS will be used.\n",
      "  self._init_dates(dates, freq)\n",
      "/Users/soooniaxx/anaconda3/lib/python3.11/site-packages/statsmodels/tsa/base/tsa_model.py:473: ValueWarning: No frequency information was provided, so inferred frequency MS will be used.\n",
      "  self._init_dates(dates, freq)\n",
      "/Users/soooniaxx/anaconda3/lib/python3.11/site-packages/statsmodels/tsa/base/tsa_model.py:473: ValueWarning: No frequency information was provided, so inferred frequency MS will be used.\n",
      "  self._init_dates(dates, freq)\n",
      "/Users/soooniaxx/anaconda3/lib/python3.11/site-packages/statsmodels/tsa/base/tsa_model.py:473: ValueWarning: No frequency information was provided, so inferred frequency MS will be used.\n",
      "  self._init_dates(dates, freq)\n"
     ]
    },
    {
     "name": "stderr",
     "output_type": "stream",
     "text": [
      "/Users/soooniaxx/anaconda3/lib/python3.11/site-packages/statsmodels/tsa/base/tsa_model.py:473: ValueWarning: No frequency information was provided, so inferred frequency MS will be used.\n",
      "  self._init_dates(dates, freq)\n",
      "/Users/soooniaxx/anaconda3/lib/python3.11/site-packages/statsmodels/tsa/base/tsa_model.py:473: ValueWarning: No frequency information was provided, so inferred frequency MS will be used.\n",
      "  self._init_dates(dates, freq)\n",
      "/Users/soooniaxx/anaconda3/lib/python3.11/site-packages/statsmodels/tsa/base/tsa_model.py:473: ValueWarning: No frequency information was provided, so inferred frequency MS will be used.\n",
      "  self._init_dates(dates, freq)\n",
      "/Users/soooniaxx/anaconda3/lib/python3.11/site-packages/statsmodels/tsa/base/tsa_model.py:473: ValueWarning: No frequency information was provided, so inferred frequency MS will be used.\n",
      "  self._init_dates(dates, freq)\n",
      "/Users/soooniaxx/anaconda3/lib/python3.11/site-packages/statsmodels/tsa/base/tsa_model.py:473: ValueWarning: No frequency information was provided, so inferred frequency MS will be used.\n",
      "  self._init_dates(dates, freq)\n",
      "/Users/soooniaxx/anaconda3/lib/python3.11/site-packages/statsmodels/tsa/base/tsa_model.py:473: ValueWarning: No frequency information was provided, so inferred frequency MS will be used.\n",
      "  self._init_dates(dates, freq)\n",
      "/Users/soooniaxx/anaconda3/lib/python3.11/site-packages/statsmodels/tsa/base/tsa_model.py:473: ValueWarning: No frequency information was provided, so inferred frequency MS will be used.\n",
      "  self._init_dates(dates, freq)\n",
      "/Users/soooniaxx/anaconda3/lib/python3.11/site-packages/statsmodels/tsa/base/tsa_model.py:473: ValueWarning: No frequency information was provided, so inferred frequency MS will be used.\n",
      "  self._init_dates(dates, freq)\n",
      "/Users/soooniaxx/anaconda3/lib/python3.11/site-packages/statsmodels/tsa/base/tsa_model.py:473: ValueWarning: No frequency information was provided, so inferred frequency MS will be used.\n",
      "  self._init_dates(dates, freq)\n",
      "/Users/soooniaxx/anaconda3/lib/python3.11/site-packages/statsmodels/tsa/base/tsa_model.py:473: ValueWarning: No frequency information was provided, so inferred frequency MS will be used.\n",
      "  self._init_dates(dates, freq)\n",
      "/Users/soooniaxx/anaconda3/lib/python3.11/site-packages/statsmodels/tsa/base/tsa_model.py:473: ValueWarning: No frequency information was provided, so inferred frequency MS will be used.\n",
      "  self._init_dates(dates, freq)\n",
      "/Users/soooniaxx/anaconda3/lib/python3.11/site-packages/statsmodels/tsa/base/tsa_model.py:473: ValueWarning: No frequency information was provided, so inferred frequency MS will be used.\n",
      "  self._init_dates(dates, freq)\n",
      "/Users/soooniaxx/anaconda3/lib/python3.11/site-packages/statsmodels/tsa/base/tsa_model.py:473: ValueWarning: No frequency information was provided, so inferred frequency MS will be used.\n",
      "  self._init_dates(dates, freq)\n",
      "/Users/soooniaxx/anaconda3/lib/python3.11/site-packages/statsmodels/tsa/base/tsa_model.py:473: ValueWarning: No frequency information was provided, so inferred frequency MS will be used.\n",
      "  self._init_dates(dates, freq)\n",
      "/Users/soooniaxx/anaconda3/lib/python3.11/site-packages/statsmodels/tsa/base/tsa_model.py:473: ValueWarning: No frequency information was provided, so inferred frequency MS will be used.\n",
      "  self._init_dates(dates, freq)\n",
      "/Users/soooniaxx/anaconda3/lib/python3.11/site-packages/statsmodels/tsa/base/tsa_model.py:473: ValueWarning: No frequency information was provided, so inferred frequency MS will be used.\n",
      "  self._init_dates(dates, freq)\n",
      "/Users/soooniaxx/anaconda3/lib/python3.11/site-packages/statsmodels/tsa/base/tsa_model.py:473: ValueWarning: No frequency information was provided, so inferred frequency MS will be used.\n",
      "  self._init_dates(dates, freq)\n",
      "/Users/soooniaxx/anaconda3/lib/python3.11/site-packages/statsmodels/tsa/base/tsa_model.py:473: ValueWarning: No frequency information was provided, so inferred frequency MS will be used.\n",
      "  self._init_dates(dates, freq)\n",
      "/Users/soooniaxx/anaconda3/lib/python3.11/site-packages/statsmodels/tsa/base/tsa_model.py:473: ValueWarning: No frequency information was provided, so inferred frequency MS will be used.\n",
      "  self._init_dates(dates, freq)\n",
      "/Users/soooniaxx/anaconda3/lib/python3.11/site-packages/statsmodels/tsa/base/tsa_model.py:473: ValueWarning: No frequency information was provided, so inferred frequency MS will be used.\n",
      "  self._init_dates(dates, freq)\n",
      "/Users/soooniaxx/anaconda3/lib/python3.11/site-packages/statsmodels/tsa/base/tsa_model.py:473: ValueWarning: No frequency information was provided, so inferred frequency MS will be used.\n",
      "  self._init_dates(dates, freq)\n",
      "/Users/soooniaxx/anaconda3/lib/python3.11/site-packages/statsmodels/tsa/base/tsa_model.py:473: ValueWarning: No frequency information was provided, so inferred frequency MS will be used.\n",
      "  self._init_dates(dates, freq)\n",
      "/Users/soooniaxx/anaconda3/lib/python3.11/site-packages/statsmodels/tsa/base/tsa_model.py:473: ValueWarning: No frequency information was provided, so inferred frequency MS will be used.\n",
      "  self._init_dates(dates, freq)\n",
      "/Users/soooniaxx/anaconda3/lib/python3.11/site-packages/statsmodels/tsa/base/tsa_model.py:473: ValueWarning: No frequency information was provided, so inferred frequency MS will be used.\n",
      "  self._init_dates(dates, freq)\n",
      "/Users/soooniaxx/anaconda3/lib/python3.11/site-packages/statsmodels/tsa/base/tsa_model.py:473: ValueWarning: No frequency information was provided, so inferred frequency MS will be used.\n",
      "  self._init_dates(dates, freq)\n",
      "/Users/soooniaxx/anaconda3/lib/python3.11/site-packages/statsmodels/tsa/base/tsa_model.py:473: ValueWarning: No frequency information was provided, so inferred frequency MS will be used.\n",
      "  self._init_dates(dates, freq)\n"
     ]
    }
   ],
   "source": [
    "from statsmodels.tsa.statespace.sarimax import SARIMAX\n",
    "# Define the range of p, d, q values to consider\n",
    "p_range = range(0, 3)  # Autoregressive order\n",
    "d_range = range(1, 2)  # Differencing order\n",
    "q_range = range(0, 3)  # Moving average order\n",
    "\n",
    "# Seasonal parameters\n",
    "P_range = range(0, 2)  # Seasonal autoregressive order\n",
    "D_range = range(0, 2)  # Seasonal differencing order\n",
    "Q_range = range(0, 2)  # Seasonal moving average order\n",
    "S = 12                 # Seasonal periodicity (e.g., 12 for monthly data)\n",
    "\n",
    "# Initialize variables to store best values and AIC\n",
    "best_aic = float(\"inf\")\n",
    "best_params = None\n",
    "\n",
    "# Loop through all combinations of p, d, q\n",
    "for p in p_range:\n",
    "    for d in d_range:\n",
    "        for q in q_range:\n",
    "            for P in P_range:\n",
    "                for D in D_range:\n",
    "                    for Q in Q_range:\n",
    "                        try:\n",
    "                            # Define the SARIMA model\n",
    "                            model = SARIMAX(ts_train, order=(p, d, q), \n",
    "                                            seasonal_order=(P, D, Q, S),\n",
    "                                            enforce_stationarity=False,\n",
    "                                            enforce_invertibility=False)\n",
    "                            # Fit the model\n",
    "                            results = model.fit(disp=0)  # Set disp=0 to turn off debugging information\n",
    "                            \n",
    "                            # Check if the current model has a lower AIC than the previous best\n",
    "                            if results.aic < best_aic:\n",
    "                                best_aic = results.aic\n",
    "                                best_params = (p, d, q, P, D, Q)\n",
    "                        except Exception as e:\n",
    "                            print(f\"Failed to fit model with parameters (p={p}, d={d}, q={q}, P={P}, D={D}, Q={Q}): {str(e)}\")\n",
    "                            continue\n"
   ]
  },
  {
   "cell_type": "code",
   "execution_count": null,
   "id": "01f94448",
   "metadata": {},
   "outputs": [],
   "source": [
    "print(\"Best AIC: {:.4f}\".format(best_aic))\n",
    "print(\"Best Parameters: p={}, d={}, q={}, P={}, D={}, Q={}\".format(*best_params))"
   ]
  },
  {
   "cell_type": "code",
   "execution_count": null,
   "id": "f7f90291",
   "metadata": {},
   "outputs": [],
   "source": [
    "#SARIMAX(Best AIC)\n",
    "model_sarima3 = SARIMAX(ts_train, \n",
    "                order=(2,1,2), \n",
    "                seasonal_order=(1,0,1, 12),\n",
    "                enforce_stationarity=False,\n",
    "                enforce_invertibility=False)\n",
    "\n",
    "# Fit the SARIMAX model \n",
    "model_sarima3_fit = model_sarima3.fit(disp = -1)\n",
    "\n",
    "# Forecast \n",
    "model_sarima3_forecast = model_sarima3_fit.forecast(24)\n",
    "\n",
    "# Plot forecast and true values\n",
    "plt.figure(figsize=(15,5))\n",
    "plt.plot(ts_train,label='Train')\n",
    "plt.plot(ts_valid,'b',label='Valid_true')\n",
    "\n",
    "plt.plot(ts_valid.index, model_sarima3_forecast,'r',label='Valid_forecast')\n",
    "plt.title(\"SARIMA(Best AIC)\")\n",
    "plt.xlabel('Date')\n",
    "plt.ylabel('Underemployment Rate')\n",
    "plt.legend()\n",
    "plt.axvline(x=ts.index[len(ts_train)],color='black')  # Make a vertical line indicating train/test separation\n",
    "plt.show()"
   ]
  },
  {
   "cell_type": "code",
   "execution_count": null,
   "id": "ce1813d9",
   "metadata": {},
   "outputs": [],
   "source": [
    "sarima3_rmse = mean_squared_error(ts_valid,model_sarima3_forecast)**0.5\n",
    "print('RMSE: {0:.4f}'.format(sarima3_rmse))"
   ]
  },
  {
   "cell_type": "markdown",
   "id": "e5a34641",
   "metadata": {},
   "source": [
    "### 3.5.1 SARIMA RMSE"
   ]
  },
  {
   "cell_type": "code",
   "execution_count": null,
   "id": "907223bd",
   "metadata": {},
   "outputs": [],
   "source": [
    "print(sarima1_rmse,sarima2_rmse,sarima3_rmse)"
   ]
  },
  {
   "cell_type": "markdown",
   "id": "4ab81796",
   "metadata": {},
   "source": [
    "## 3.6 Feed Forward NN Model (FNN)"
   ]
  },
  {
   "cell_type": "code",
   "execution_count": null,
   "id": "c74905fd",
   "metadata": {},
   "outputs": [],
   "source": [
    "import tensorflow as tf\n",
    "import random \n",
    "\n",
    "np.random.seed(0)\n",
    "tf.random.set_seed(0)\n",
    "random.seed(0)"
   ]
  },
  {
   "cell_type": "code",
   "execution_count": null,
   "id": "64d20cbd",
   "metadata": {},
   "outputs": [],
   "source": [
    "from tensorflow.keras.layers import Dense\n",
    "from tensorflow.keras.models import Sequential"
   ]
  },
  {
   "cell_type": "code",
   "execution_count": null,
   "id": "05d3bf51",
   "metadata": {},
   "outputs": [],
   "source": [
    "# Drop all Nans\n",
    "data_not_scaled = df.dropna()               \n",
    "# Convert from DataFrame to Python Array\n",
    "data_not_scaled = data_not_scaled.values         \n",
    "# Make sure the data is type of float\n",
    "data_not_scaled = data_not_scaled.astype('float')  \n",
    "\n",
    "# Plot the time series\n",
    "plt.figure(figsize=(15,6))\n",
    "plt.plot(df.index,data_not_scaled)\n",
    "plt.xlabel('Date')\n",
    "plt.ylabel('Underemployment Rate')\n",
    "plt.show()"
   ]
  },
  {
   "cell_type": "code",
   "execution_count": null,
   "id": "9f25cc53",
   "metadata": {},
   "outputs": [],
   "source": [
    "# Time window to define the number of features in each row\n",
    "time_window = 12\n",
    "\n",
    "# Define a scaler object\n",
    "scaler = MinMaxScaler(feature_range=(0, 1))\n",
    "\n",
    "# Compute in-sample size\n",
    "train_size = len(data_not_scaled) - 24\n",
    "valid_size = 24\n",
    "\n",
    "# Fitting the scaler\n",
    "fitted_transformer = scaler.fit(data_not_scaled[:train_size+time_window])\n",
    "\n",
    "# Transforming using trained scaler\n",
    "data_scaled = fitted_transformer.transform(data_not_scaled)\n",
    "\n",
    "# Plot the scaled data\n",
    "plt.figure(figsize=(15,6))\n",
    "plt.plot(df.index,data_scaled)\n",
    "plt.xlabel('Date')\n",
    "plt.ylabel('Underemployment Rate in 0-1 scale')\n",
    "plt.title('Transformed data')\n",
    "plt.show()"
   ]
  },
  {
   "cell_type": "code",
   "execution_count": null,
   "id": "300728d3",
   "metadata": {},
   "outputs": [],
   "source": [
    "# Pre-allocation\n",
    "Xall, Yall = [], []\n",
    "Xall_not_scaled, Yall_not_scaled = [], []\n",
    "\n",
    "# Use each rolling window as a row in the data matrix \n",
    "for i in range(time_window, len(data_scaled)):\n",
    "    Xall.append(data_scaled[i-time_window:i, 0]) # Access the accuracy\n",
    "    Xall_not_scaled.append(data_not_scaled[i-time_window:i, 0]) # Training NN\n",
    "    Yall.append(data_scaled[i, 0])\n",
    "    Yall_not_scaled.append(data_not_scaled[i, 0])\n",
    "\n",
    "# Convert them from list to numpy array\n",
    "Xall = np.array(Xall)\n",
    "Yall = np.array(Yall)\n",
    "Xall_not_scaled = np.array(Xall_not_scaled)\n",
    "Yall_not_scaled = np.array(Yall_not_scaled)\n",
    "\n",
    "# Training data & Validation data\n",
    "Xtrain = Xall[:train_size, :]\n",
    "Ytrain = Yall[:train_size]\n",
    "\n",
    "Xvalid = Xall[-valid_size:,:]\n",
    "Yvalid = Yall[-valid_size:]"
   ]
  },
  {
   "cell_type": "code",
   "execution_count": null,
   "id": "6c874197",
   "metadata": {},
   "outputs": [],
   "source": [
    "Xtrain.shape, Ytrain.shape"
   ]
  },
  {
   "cell_type": "code",
   "execution_count": null,
   "id": "8f90e5d0",
   "metadata": {},
   "outputs": [],
   "source": [
    "Xvalid.shape, Yvalid.shape"
   ]
  },
  {
   "cell_type": "markdown",
   "id": "f80307d0",
   "metadata": {},
   "source": [
    "### 3.6.1 FNN Model Building Process"
   ]
  },
  {
   "cell_type": "code",
   "execution_count": null,
   "id": "4f753e91",
   "metadata": {},
   "outputs": [],
   "source": [
    "# Define FNN model architecture\n",
    "model_FNN = Sequential()\n",
    "model_FNN.add(Dense(24, input_dim = time_window, activation='relu'))\n",
    "model_FNN.add(Dense(16, input_dim = time_window, activation='relu'))\n",
    "model_FNN.add(Dense(1))"
   ]
  },
  {
   "cell_type": "code",
   "execution_count": null,
   "id": "0e0c896c",
   "metadata": {
    "scrolled": true
   },
   "outputs": [],
   "source": [
    "# Compile the model\n",
    "model_FNN.compile(loss='mean_squared_error', optimizer='adam')\n",
    "model_FNN.summary()"
   ]
  },
  {
   "cell_type": "code",
   "execution_count": null,
   "id": "16672831",
   "metadata": {},
   "outputs": [],
   "source": [
    "# Train the model\n",
    "model_FNN.fit(Xtrain, Ytrain, epochs=300, batch_size=20 , verbose=1)"
   ]
  },
  {
   "cell_type": "code",
   "execution_count": null,
   "id": "9bac9de9",
   "metadata": {},
   "outputs": [],
   "source": [
    "# 24-step Prediction\n",
    "dynamic_prediction = np.copy(data_scaled[:len(data_scaled) - valid_size])\n",
    "\n",
    "for i in range(len(data_scaled) - valid_size, len(data_scaled)):\n",
    "    last_feature = np.reshape(dynamic_prediction[i-time_window:i], (1,time_window,1))\n",
    "    next_pred = model_FNN.predict(last_feature)\n",
    "    dynamic_prediction = np.append(dynamic_prediction, next_pred)\n",
    "\n",
    "# Transform forecast values to original scale\n",
    "dynamic_prediction = dynamic_prediction.reshape(-1,1)\n",
    "dynamic_prediction_original_scale = scaler.inverse_transform(dynamic_prediction)\n",
    "\n",
    "# Plot\n",
    "test_index = np.arange(len(data_scaled) - valid_size, len(data_scaled), 1)\n",
    "\n",
    "plt.figure(figsize=(15,6))\n",
    "plt.plot(scaler.inverse_transform(data_scaled[:len(data_scaled) - valid_size]), label='Training Data')\n",
    "plt.plot(test_index, scaler.inverse_transform(data_scaled[-valid_size:]), label='True Validation Data') \n",
    "plt.plot(test_index, dynamic_prediction_original_scale[-valid_size:], label='Validation Prediction') \n",
    "plt.xlabel('Date')\n",
    "plt.ylabel('Underemployment Rate')\n",
    "plt.legend(loc = \"upper left\")\n",
    "plt.show()"
   ]
  },
  {
   "cell_type": "markdown",
   "id": "8e34197d",
   "metadata": {},
   "source": [
    "### 3.6.2 FNN RMSE"
   ]
  },
  {
   "cell_type": "code",
   "execution_count": null,
   "id": "5f2834c0",
   "metadata": {},
   "outputs": [],
   "source": [
    "# Compute RMSE score on Predicted validation data\n",
    "FNN_RMSE = np.sqrt(mean_squared_error(Yvalid, dynamic_prediction[-valid_size:]))\n",
    "print('24-step Forecast RMSE for FNN Model: {0:.4f}'.format(FNN_RMSE))\n",
    "FNN_RMSE = FNN_RMSE"
   ]
  },
  {
   "cell_type": "markdown",
   "id": "954e6ecf",
   "metadata": {},
   "source": [
    "## 3.7 RMSE Presenting"
   ]
  },
  {
   "cell_type": "code",
   "execution_count": null,
   "id": "71d42c4c",
   "metadata": {},
   "outputs": [],
   "source": [
    "rmse_data = {\n",
    "    'Model': ['SARIMA','ARIMA', 'Holt-Winters', 'Decomposition Linear', 'Linear', 'FNN'],\n",
    "    'RMSE': [sarima2_rmse, ari_rmse, hot_rmse, Dep_linear_rmse, linear_rmse,FNN_RMSE]\n",
    "}\n",
    "\n",
    "gg = pd.DataFrame(rmse_data)\n",
    "\n",
    "gg_sorted = gg.sort_values(by='RMSE')\n",
    "\n",
    "print(gg_sorted)\n",
    "\n",
    "plt.figure(figsize=(14, 6))\n",
    "\n",
    "bars_top3 = plt.barh(gg_sorted['Model'][:3], gg_sorted['RMSE'][:3], color='orange', label='Top 3')\n",
    "bars_rest = plt.barh(gg_sorted['Model'][3:], gg_sorted['RMSE'][3:], color='skyblue')\n",
    "\n",
    "for bar in bars_top3:\n",
    "    width = bar.get_width()\n",
    "    plt.text(width, bar.get_y() + bar.get_height()/2, f'{width:.4f}', ha='left', va='center')\n",
    "    \n",
    "for bar in bars_rest:\n",
    "    width = bar.get_width()\n",
    "    plt.text(width, bar.get_y() + bar.get_height()/2, f'{width:.4f}', ha='left', va='center')\n",
    "\n",
    "plt.xlabel('RMSE')\n",
    "plt.title('RMSE Comparison')\n",
    "plt.grid(axis='x')\n",
    "plt.show()\n",
    "# plt.savefig('RMSE Comparision_full')"
   ]
  },
  {
   "cell_type": "markdown",
   "id": "efc1e8b4",
   "metadata": {},
   "source": [
    "# 4.0 Model Evalutation "
   ]
  },
  {
   "cell_type": "code",
   "execution_count": null,
   "id": "d080a283",
   "metadata": {},
   "outputs": [],
   "source": [
    "df2 = pd.read_csv('UnderemploymentRate_OutofSample.csv')\n",
    "df2['Date'] = pd.to_datetime(df2['Date'], dayfirst = True)\n",
    "\n",
    "df2.set_index('Date', inplace=True)\n",
    "df2.head()"
   ]
  },
  {
   "cell_type": "markdown",
   "id": "9d52187f",
   "metadata": {},
   "source": [
    "## 4.1 Holt-Winters Model"
   ]
  },
  {
   "cell_type": "code",
   "execution_count": null,
   "id": "d85e23eb",
   "metadata": {},
   "outputs": [],
   "source": [
    "fit_mul2 = ExponentialSmoothing (ts, seasonal_periods=12, trend='add', seasonal= 'mul').fit()\n",
    "\n",
    "smooth_mul2 = fit_mul2.fittedvalues\n",
    "\n",
    "y_mul2 = fit_mul2.forecast(24)\n",
    "\n",
    "# And plot al together\n",
    "plt.figure(figsize=(16,5))\n",
    "plt.plot(df2, label = 'Out-sample')\n",
    "plt.plot(ts, label = 'In-sample')\n",
    "plt.plot(y_mul2, '--g',label = 'Holt-Winters Multiplicative')\n",
    "plt.axvline(x=ts.index[-1],color='black',alpha=0.5)\n",
    "\n",
    "plt.xlabel(\"Date\")\n",
    "plt.ylabel(\"Underemployment rate\")\n",
    "plt.title(\" Forecasts from Holt-Winters'methods\")\n",
    "plt.legend()\n",
    "plt.show()\n",
    "# plt.savefig('Forecasts from Hot')"
   ]
  },
  {
   "cell_type": "code",
   "execution_count": null,
   "id": "b98d94fa",
   "metadata": {},
   "outputs": [],
   "source": [
    "# hot_mse2 = mean_squared_error(df2, y_mul2)\n",
    "hot_rmse2 = np.sqrt(mean_squared_error(df2, y_mul2))\n",
    "hot_rmse2"
   ]
  },
  {
   "cell_type": "markdown",
   "id": "c0cbc7bb",
   "metadata": {},
   "source": [
    "## 4.2 Seasonal ARIMA"
   ]
  },
  {
   "cell_type": "code",
   "execution_count": null,
   "id": "ca25c63b",
   "metadata": {},
   "outputs": [],
   "source": [
    "#SARIMAX model 2\n",
    "model_sarima22 = SARIMAX(ts, \n",
    "                order=(1,1,2), \n",
    "                seasonal_order=(1,1,1, 12),\n",
    "                enforce_stationarity=False,\n",
    "                enforce_invertibility=False)\n",
    "\n",
    "# Fit the SARIMAX model \n",
    "model_sarima22_fit = model_sarima22.fit(disp = -1)\n",
    "\n",
    "# Forecast \n",
    "model_sarima22_forecast = model_sarima22_fit.forecast(24)\n",
    "\n",
    "# Plot forecast and true values\n",
    "plt.figure(figsize=(16,5))\n",
    "plt.plot(df2, label = 'Out-sample')\n",
    "plt.plot(ts, label = 'In-sample')\n",
    "plt.plot(model_sarima22_forecast, '--g',label = 'Seasonal ARIMA')\n",
    "plt.axvline(x=ts.index[-1],color='black',alpha=0.5)\n",
    "\n",
    "plt.xlabel(\"Date\")\n",
    "plt.ylabel(\"Underemployment rate\")\n",
    "plt.title(\" Forecasts from Seasonal ARIMA\")\n",
    "plt.legend()\n",
    "plt.show()"
   ]
  },
  {
   "cell_type": "code",
   "execution_count": null,
   "id": "5f0b927c",
   "metadata": {},
   "outputs": [],
   "source": [
    "# hot_mse2 = mean_squared_error(df2, y_mul2)\n",
    "sarima_rmse22 = np.sqrt(mean_squared_error(df2, model_sarima22_forecast))\n",
    "sarima_rmse22"
   ]
  },
  {
   "cell_type": "markdown",
   "id": "ff9ef490",
   "metadata": {},
   "source": [
    "## 4.3 FNN"
   ]
  },
  {
   "cell_type": "code",
   "execution_count": null,
   "id": "5d25bfea",
   "metadata": {},
   "outputs": [],
   "source": [
    "model_FNN.fit(Xall, Yall, epochs=300, batch_size=20 , verbose=1)"
   ]
  },
  {
   "cell_type": "code",
   "execution_count": null,
   "id": "f9fbb75e",
   "metadata": {},
   "outputs": [],
   "source": [
    "# model_FNN.fit(Xall, Yall, epochs=300, batch_size=20 , verbose=1)\n",
    "\n",
    "#Dynamical Prediction\n",
    "dynamic_prediction = np.copy(data_scaled[:len(data_scaled) - valid_size])\n",
    "\n",
    "for i in range(len(data_scaled) - valid_size, len(data_scaled)):\n",
    "    last_feature = np.reshape(dynamic_prediction[i-time_window:i], (1,time_window,1))\n",
    "    next_pred = model_FNN.predict(last_feature)\n",
    "    dynamic_prediction = np.append(dynamic_prediction, next_pred)\n",
    "\n",
    "# Transform forecast values to original scale\n",
    "dynamic_prediction = dynamic_prediction.reshape(-1,1)\n",
    "dynamic_prediction_original_scale = scaler.inverse_transform(dynamic_prediction)\n",
    "\n",
    "# Plot\n",
    "test_index = np.arange(len(data_scaled) - valid_size, len(data_scaled), 1)\n",
    "\n",
    "plt.figure(figsize=(15,6))\n",
    "plt.plot(scaler.inverse_transform(data_scaled[:len(data_scaled) - valid_size]), label='Training Data')\n",
    "plt.plot(test_index, scaler.inverse_transform(data_scaled[-valid_size:]), label='Testing Data')\n",
    "plt.plot(test_index, dynamic_prediction_original_scale[-valid_size:], label='Out of Sample Prediction') \n",
    "plt.legend(loc = \"upper left\")\n",
    "plt.show()"
   ]
  },
  {
   "cell_type": "code",
   "execution_count": null,
   "id": "698d1364",
   "metadata": {},
   "outputs": [],
   "source": [
    "FNN_RMSE2 = math.sqrt(mean_squared_error(df2, dynamic_prediction_original_scale[-valid_size:]))\n",
    "print('Test Data RMSE original scale: {0:.4f}'.format(FNN_RMSE2))"
   ]
  },
  {
   "cell_type": "code",
   "execution_count": null,
   "id": "a7011d7e",
   "metadata": {},
   "outputs": [],
   "source": [
    "rmse_data = {\n",
    "    'Model': ['SARIMA', 'Holt-Winters', 'FNN'],\n",
    "    'RMSE': [sarima_rmse22, hot_rmse2, FNN_RMSE2 ]}\n",
    "\n",
    "gg2 = pd.DataFrame(rmse_data)\n",
    "gg2_sorted = gg2.sort_values(by='RMSE')\n",
    "\n",
    "print(gg2_sorted)\n",
    "\n",
    "plt.figure(figsize=(14, 6))\n",
    "bars = plt.barh(gg2_sorted['Model'], gg2_sorted['RMSE'], color='skyblue')\n",
    "\n",
    "for bar in bars:\n",
    "    width = bar.get_width()\n",
    "    plt.text(width, bar.get_y() + bar.get_height() / 2, f'{width:.4f}', ha='left', va='center')\n",
    "    \n",
    "plt.xlabel('RMSE')\n",
    "plt.title('RMSE Comparison')\n",
    "plt.grid(axis='x')\n",
    "plt.show()\n",
    "# plt.savefig('RMSE_final')"
   ]
  }
 ],
 "metadata": {
  "kernelspec": {
   "display_name": "Python 3 (ipykernel)",
   "language": "python",
   "name": "python3"
  },
  "language_info": {
   "codemirror_mode": {
    "name": "ipython",
    "version": 3
   },
   "file_extension": ".py",
   "mimetype": "text/x-python",
   "name": "python",
   "nbconvert_exporter": "python",
   "pygments_lexer": "ipython3",
   "version": "3.11.5"
  }
 },
 "nbformat": 4,
 "nbformat_minor": 5
}
